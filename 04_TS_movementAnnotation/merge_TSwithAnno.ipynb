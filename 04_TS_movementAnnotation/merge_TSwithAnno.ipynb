{
 "cells": [
  {
   "cell_type": "code",
   "execution_count": 7,
   "metadata": {},
   "outputs": [
    {
     "name": "stdout",
     "output_type": "stream",
     "text": [
      "e:\\FLESH_ContinuousBodilyEffort\\02_0_TS_movementAnnotation\n",
      "e:\\FLESH_ContinuousBodilyEffort\\02_0_TS_movementAnnotation../01_TS_processing/TS_merged/\n",
      "['e:\\\\FLESH_ContinuousBodilyEffort\\\\02_0_TS_movementAnnotation/MT_annotated\\\\0_1_0_p0_ELAN_tiers.csv', 'e:\\\\FLESH_ContinuousBodilyEffort\\\\02_0_TS_movementAnnotation/MT_annotated\\\\0_1_10_p1_ELAN_tiers.csv', 'e:\\\\FLESH_ContinuousBodilyEffort\\\\02_0_TS_movementAnnotation/MT_annotated\\\\0_1_11_p1_ELAN_tiers.csv', 'e:\\\\FLESH_ContinuousBodilyEffort\\\\02_0_TS_movementAnnotation/MT_annotated\\\\0_1_12_p1_ELAN_tiers.csv', 'e:\\\\FLESH_ContinuousBodilyEffort\\\\02_0_TS_movementAnnotation/MT_annotated\\\\0_1_13_p1_ELAN_tiers.csv', 'e:\\\\FLESH_ContinuousBodilyEffort\\\\02_0_TS_movementAnnotation/MT_annotated\\\\0_1_14_p1_ELAN_tiers.csv', 'e:\\\\FLESH_ContinuousBodilyEffort\\\\02_0_TS_movementAnnotation/MT_annotated\\\\0_1_15_p1_ELAN_tiers.csv', 'e:\\\\FLESH_ContinuousBodilyEffort\\\\02_0_TS_movementAnnotation/MT_annotated\\\\0_1_16_p1_ELAN_tiers.csv', 'e:\\\\FLESH_ContinuousBodilyEffort\\\\02_0_TS_movementAnnotation/MT_annotated\\\\0_1_17_p1_ELAN_tiers.csv', 'e:\\\\FLESH_ContinuousBodilyEffort\\\\02_0_TS_movementAnnotation/MT_annotated\\\\0_1_18_p0_ELAN_tiers.csv', 'e:\\\\FLESH_ContinuousBodilyEffort\\\\02_0_TS_movementAnnotation/MT_annotated\\\\0_1_19_p0_ELAN_tiers.csv', 'e:\\\\FLESH_ContinuousBodilyEffort\\\\02_0_TS_movementAnnotation/MT_annotated\\\\0_1_1_p0_ELAN_tiers.csv', 'e:\\\\FLESH_ContinuousBodilyEffort\\\\02_0_TS_movementAnnotation/MT_annotated\\\\0_1_20_p0_ELAN_tiers.csv', 'e:\\\\FLESH_ContinuousBodilyEffort\\\\02_0_TS_movementAnnotation/MT_annotated\\\\0_1_21_p0_ELAN_tiers.csv', 'e:\\\\FLESH_ContinuousBodilyEffort\\\\02_0_TS_movementAnnotation/MT_annotated\\\\0_1_22_p0_ELAN_tiers.csv', 'e:\\\\FLESH_ContinuousBodilyEffort\\\\02_0_TS_movementAnnotation/MT_annotated\\\\0_1_23_p0_ELAN_tiers.csv', 'e:\\\\FLESH_ContinuousBodilyEffort\\\\02_0_TS_movementAnnotation/MT_annotated\\\\0_1_24_p0_ELAN_tiers.csv', 'e:\\\\FLESH_ContinuousBodilyEffort\\\\02_0_TS_movementAnnotation/MT_annotated\\\\0_1_25_p0_ELAN_tiers.csv', 'e:\\\\FLESH_ContinuousBodilyEffort\\\\02_0_TS_movementAnnotation/MT_annotated\\\\0_1_26_p0_ELAN_tiers.csv', 'e:\\\\FLESH_ContinuousBodilyEffort\\\\02_0_TS_movementAnnotation/MT_annotated\\\\0_1_27_p1_ELAN_tiers.csv', 'e:\\\\FLESH_ContinuousBodilyEffort\\\\02_0_TS_movementAnnotation/MT_annotated\\\\0_1_28_p1_ELAN_tiers.csv', 'e:\\\\FLESH_ContinuousBodilyEffort\\\\02_0_TS_movementAnnotation/MT_annotated\\\\0_1_29_p1_ELAN_tiers.csv', 'e:\\\\FLESH_ContinuousBodilyEffort\\\\02_0_TS_movementAnnotation/MT_annotated\\\\0_1_2_p0_ELAN_tiers.csv', 'e:\\\\FLESH_ContinuousBodilyEffort\\\\02_0_TS_movementAnnotation/MT_annotated\\\\0_1_30_p1_ELAN_tiers.csv', 'e:\\\\FLESH_ContinuousBodilyEffort\\\\02_0_TS_movementAnnotation/MT_annotated\\\\0_1_31_p1_ELAN_tiers.csv', 'e:\\\\FLESH_ContinuousBodilyEffort\\\\02_0_TS_movementAnnotation/MT_annotated\\\\0_1_32_p1_ELAN_tiers.csv', 'e:\\\\FLESH_ContinuousBodilyEffort\\\\02_0_TS_movementAnnotation/MT_annotated\\\\0_1_33_p1_ELAN_tiers.csv', 'e:\\\\FLESH_ContinuousBodilyEffort\\\\02_0_TS_movementAnnotation/MT_annotated\\\\0_1_35_p1_ELAN_tiers.csv', 'e:\\\\FLESH_ContinuousBodilyEffort\\\\02_0_TS_movementAnnotation/MT_annotated\\\\0_1_36_p0_ELAN_tiers.csv', 'e:\\\\FLESH_ContinuousBodilyEffort\\\\02_0_TS_movementAnnotation/MT_annotated\\\\0_1_37_p0_ELAN_tiers.csv', 'e:\\\\FLESH_ContinuousBodilyEffort\\\\02_0_TS_movementAnnotation/MT_annotated\\\\0_1_38_p0_ELAN_tiers.csv', 'e:\\\\FLESH_ContinuousBodilyEffort\\\\02_0_TS_movementAnnotation/MT_annotated\\\\0_1_39_p0_ELAN_tiers.csv', 'e:\\\\FLESH_ContinuousBodilyEffort\\\\02_0_TS_movementAnnotation/MT_annotated\\\\0_1_3_p0_ELAN_tiers.csv', 'e:\\\\FLESH_ContinuousBodilyEffort\\\\02_0_TS_movementAnnotation/MT_annotated\\\\0_1_40_p0_ELAN_tiers.csv', 'e:\\\\FLESH_ContinuousBodilyEffort\\\\02_0_TS_movementAnnotation/MT_annotated\\\\0_1_41_p0_ELAN_tiers.csv', 'e:\\\\FLESH_ContinuousBodilyEffort\\\\02_0_TS_movementAnnotation/MT_annotated\\\\0_1_42_p0_ELAN_tiers.csv', 'e:\\\\FLESH_ContinuousBodilyEffort\\\\02_0_TS_movementAnnotation/MT_annotated\\\\0_1_43_p0_ELAN_tiers.csv', 'e:\\\\FLESH_ContinuousBodilyEffort\\\\02_0_TS_movementAnnotation/MT_annotated\\\\0_1_44_p0_ELAN_tiers.csv', 'e:\\\\FLESH_ContinuousBodilyEffort\\\\02_0_TS_movementAnnotation/MT_annotated\\\\0_1_45_p1_ELAN_tiers.csv', 'e:\\\\FLESH_ContinuousBodilyEffort\\\\02_0_TS_movementAnnotation/MT_annotated\\\\0_1_46_p1_ELAN_tiers.csv', 'e:\\\\FLESH_ContinuousBodilyEffort\\\\02_0_TS_movementAnnotation/MT_annotated\\\\0_1_47_p1_ELAN_tiers.csv', 'e:\\\\FLESH_ContinuousBodilyEffort\\\\02_0_TS_movementAnnotation/MT_annotated\\\\0_1_48_p1_ELAN_tiers.csv', 'e:\\\\FLESH_ContinuousBodilyEffort\\\\02_0_TS_movementAnnotation/MT_annotated\\\\0_1_49_p1_ELAN_tiers.csv', 'e:\\\\FLESH_ContinuousBodilyEffort\\\\02_0_TS_movementAnnotation/MT_annotated\\\\0_1_4_p0_ELAN_tiers.csv', 'e:\\\\FLESH_ContinuousBodilyEffort\\\\02_0_TS_movementAnnotation/MT_annotated\\\\0_1_50_p1_ELAN_tiers.csv', 'e:\\\\FLESH_ContinuousBodilyEffort\\\\02_0_TS_movementAnnotation/MT_annotated\\\\0_1_51_p1_ELAN_tiers.csv', 'e:\\\\FLESH_ContinuousBodilyEffort\\\\02_0_TS_movementAnnotation/MT_annotated\\\\0_1_52_p1_ELAN_tiers.csv', 'e:\\\\FLESH_ContinuousBodilyEffort\\\\02_0_TS_movementAnnotation/MT_annotated\\\\0_1_53_p1_ELAN_tiers.csv', 'e:\\\\FLESH_ContinuousBodilyEffort\\\\02_0_TS_movementAnnotation/MT_annotated\\\\0_1_5_p0_ELAN_tiers.csv', 'e:\\\\FLESH_ContinuousBodilyEffort\\\\02_0_TS_movementAnnotation/MT_annotated\\\\0_1_6_p0_ELAN_tiers.csv', 'e:\\\\FLESH_ContinuousBodilyEffort\\\\02_0_TS_movementAnnotation/MT_annotated\\\\0_1_7_p0_ELAN_tiers.csv', 'e:\\\\FLESH_ContinuousBodilyEffort\\\\02_0_TS_movementAnnotation/MT_annotated\\\\0_1_8_p0_ELAN_tiers.csv', 'e:\\\\FLESH_ContinuousBodilyEffort\\\\02_0_TS_movementAnnotation/MT_annotated\\\\0_1_9_p1_ELAN_tiers.csv', 'e:\\\\FLESH_ContinuousBodilyEffort\\\\02_0_TS_movementAnnotation/MT_annotated\\\\0_1_tpose_0_ELAN_tiers.csv', 'e:\\\\FLESH_ContinuousBodilyEffort\\\\02_0_TS_movementAnnotation/MT_annotated\\\\0_1_tpose_1_ELAN_tiers.csv', 'e:\\\\FLESH_ContinuousBodilyEffort\\\\02_0_TS_movementAnnotation/MT_annotated\\\\0_2_0_p0_ELAN_tiers.csv', 'e:\\\\FLESH_ContinuousBodilyEffort\\\\02_0_TS_movementAnnotation/MT_annotated\\\\0_2_100_p1_ELAN_tiers.csv', 'e:\\\\FLESH_ContinuousBodilyEffort\\\\02_0_TS_movementAnnotation/MT_annotated\\\\0_2_101_p1_ELAN_tiers.csv', 'e:\\\\FLESH_ContinuousBodilyEffort\\\\02_0_TS_movementAnnotation/MT_annotated\\\\0_2_102_p1_ELAN_tiers.csv', 'e:\\\\FLESH_ContinuousBodilyEffort\\\\02_0_TS_movementAnnotation/MT_annotated\\\\0_2_103_p1_ELAN_tiers.csv', 'e:\\\\FLESH_ContinuousBodilyEffort\\\\02_0_TS_movementAnnotation/MT_annotated\\\\0_2_104_p1_ELAN_tiers.csv', 'e:\\\\FLESH_ContinuousBodilyEffort\\\\02_0_TS_movementAnnotation/MT_annotated\\\\0_2_105_p1_ELAN_tiers.csv', 'e:\\\\FLESH_ContinuousBodilyEffort\\\\02_0_TS_movementAnnotation/MT_annotated\\\\0_2_106_p1_ELAN_tiers.csv', 'e:\\\\FLESH_ContinuousBodilyEffort\\\\02_0_TS_movementAnnotation/MT_annotated\\\\0_2_107_p1_ELAN_tiers.csv', 'e:\\\\FLESH_ContinuousBodilyEffort\\\\02_0_TS_movementAnnotation/MT_annotated\\\\0_2_108_p1_ELAN_tiers.csv', 'e:\\\\FLESH_ContinuousBodilyEffort\\\\02_0_TS_movementAnnotation/MT_annotated\\\\0_2_109_p1_ELAN_tiers.csv', 'e:\\\\FLESH_ContinuousBodilyEffort\\\\02_0_TS_movementAnnotation/MT_annotated\\\\0_2_10_p0_ELAN_tiers.csv', 'e:\\\\FLESH_ContinuousBodilyEffort\\\\02_0_TS_movementAnnotation/MT_annotated\\\\0_2_110_p1_ELAN_tiers.csv', 'e:\\\\FLESH_ContinuousBodilyEffort\\\\02_0_TS_movementAnnotation/MT_annotated\\\\0_2_111_p1_ELAN_tiers.csv', 'e:\\\\FLESH_ContinuousBodilyEffort\\\\02_0_TS_movementAnnotation/MT_annotated\\\\0_2_112_p1_ELAN_tiers.csv', 'e:\\\\FLESH_ContinuousBodilyEffort\\\\02_0_TS_movementAnnotation/MT_annotated\\\\0_2_113_p1_ELAN_tiers.csv', 'e:\\\\FLESH_ContinuousBodilyEffort\\\\02_0_TS_movementAnnotation/MT_annotated\\\\0_2_11_p0_ELAN_tiers.csv', 'e:\\\\FLESH_ContinuousBodilyEffort\\\\02_0_TS_movementAnnotation/MT_annotated\\\\0_2_12_p0_ELAN_tiers.csv', 'e:\\\\FLESH_ContinuousBodilyEffort\\\\02_0_TS_movementAnnotation/MT_annotated\\\\0_2_13_p0_ELAN_tiers.csv', 'e:\\\\FLESH_ContinuousBodilyEffort\\\\02_0_TS_movementAnnotation/MT_annotated\\\\0_2_14_p0_ELAN_tiers.csv', 'e:\\\\FLESH_ContinuousBodilyEffort\\\\02_0_TS_movementAnnotation/MT_annotated\\\\0_2_15_p0_ELAN_tiers.csv', 'e:\\\\FLESH_ContinuousBodilyEffort\\\\02_0_TS_movementAnnotation/MT_annotated\\\\0_2_16_p0_ELAN_tiers.csv', 'e:\\\\FLESH_ContinuousBodilyEffort\\\\02_0_TS_movementAnnotation/MT_annotated\\\\0_2_17_p0_ELAN_tiers.csv', 'e:\\\\FLESH_ContinuousBodilyEffort\\\\02_0_TS_movementAnnotation/MT_annotated\\\\0_2_18_p0_ELAN_tiers.csv', 'e:\\\\FLESH_ContinuousBodilyEffort\\\\02_0_TS_movementAnnotation/MT_annotated\\\\0_2_19_p1_ELAN_tiers.csv', 'e:\\\\FLESH_ContinuousBodilyEffort\\\\02_0_TS_movementAnnotation/MT_annotated\\\\0_2_1_p0_ELAN_tiers.csv', 'e:\\\\FLESH_ContinuousBodilyEffort\\\\02_0_TS_movementAnnotation/MT_annotated\\\\0_2_20_p1_ELAN_tiers.csv', 'e:\\\\FLESH_ContinuousBodilyEffort\\\\02_0_TS_movementAnnotation/MT_annotated\\\\0_2_21_p1_ELAN_tiers.csv', 'e:\\\\FLESH_ContinuousBodilyEffort\\\\02_0_TS_movementAnnotation/MT_annotated\\\\0_2_22_p1_ELAN_tiers.csv', 'e:\\\\FLESH_ContinuousBodilyEffort\\\\02_0_TS_movementAnnotation/MT_annotated\\\\0_2_23_p1_ELAN_tiers.csv', 'e:\\\\FLESH_ContinuousBodilyEffort\\\\02_0_TS_movementAnnotation/MT_annotated\\\\0_2_24_p1_ELAN_tiers.csv', 'e:\\\\FLESH_ContinuousBodilyEffort\\\\02_0_TS_movementAnnotation/MT_annotated\\\\0_2_25_p1_ELAN_tiers.csv', 'e:\\\\FLESH_ContinuousBodilyEffort\\\\02_0_TS_movementAnnotation/MT_annotated\\\\0_2_26_p1_ELAN_tiers.csv', 'e:\\\\FLESH_ContinuousBodilyEffort\\\\02_0_TS_movementAnnotation/MT_annotated\\\\0_2_27_p1_ELAN_tiers.csv', 'e:\\\\FLESH_ContinuousBodilyEffort\\\\02_0_TS_movementAnnotation/MT_annotated\\\\0_2_28_p1_ELAN_tiers.csv', 'e:\\\\FLESH_ContinuousBodilyEffort\\\\02_0_TS_movementAnnotation/MT_annotated\\\\0_2_29_p1_ELAN_tiers.csv', 'e:\\\\FLESH_ContinuousBodilyEffort\\\\02_0_TS_movementAnnotation/MT_annotated\\\\0_2_2_p0_ELAN_tiers.csv', 'e:\\\\FLESH_ContinuousBodilyEffort\\\\02_0_TS_movementAnnotation/MT_annotated\\\\0_2_30_p1_ELAN_tiers.csv', 'e:\\\\FLESH_ContinuousBodilyEffort\\\\02_0_TS_movementAnnotation/MT_annotated\\\\0_2_31_p1_ELAN_tiers.csv', 'e:\\\\FLESH_ContinuousBodilyEffort\\\\02_0_TS_movementAnnotation/MT_annotated\\\\0_2_32_p1_ELAN_tiers.csv', 'e:\\\\FLESH_ContinuousBodilyEffort\\\\02_0_TS_movementAnnotation/MT_annotated\\\\0_2_33_p1_ELAN_tiers.csv', 'e:\\\\FLESH_ContinuousBodilyEffort\\\\02_0_TS_movementAnnotation/MT_annotated\\\\0_2_34_p1_ELAN_tiers.csv', 'e:\\\\FLESH_ContinuousBodilyEffort\\\\02_0_TS_movementAnnotation/MT_annotated\\\\0_2_35_p1_ELAN_tiers.csv', 'e:\\\\FLESH_ContinuousBodilyEffort\\\\02_0_TS_movementAnnotation/MT_annotated\\\\0_2_36_p1_ELAN_tiers.csv', 'e:\\\\FLESH_ContinuousBodilyEffort\\\\02_0_TS_movementAnnotation/MT_annotated\\\\0_2_37_p1_ELAN_tiers.csv', 'e:\\\\FLESH_ContinuousBodilyEffort\\\\02_0_TS_movementAnnotation/MT_annotated\\\\0_2_38_p0_ELAN_tiers.csv', 'e:\\\\FLESH_ContinuousBodilyEffort\\\\02_0_TS_movementAnnotation/MT_annotated\\\\0_2_39_p0_ELAN_tiers.csv', 'e:\\\\FLESH_ContinuousBodilyEffort\\\\02_0_TS_movementAnnotation/MT_annotated\\\\0_2_3_p0_ELAN_tiers.csv', 'e:\\\\FLESH_ContinuousBodilyEffort\\\\02_0_TS_movementAnnotation/MT_annotated\\\\0_2_40_p0_ELAN_tiers.csv', 'e:\\\\FLESH_ContinuousBodilyEffort\\\\02_0_TS_movementAnnotation/MT_annotated\\\\0_2_41_p0_ELAN_tiers.csv', 'e:\\\\FLESH_ContinuousBodilyEffort\\\\02_0_TS_movementAnnotation/MT_annotated\\\\0_2_43_p0_ELAN_tiers.csv', 'e:\\\\FLESH_ContinuousBodilyEffort\\\\02_0_TS_movementAnnotation/MT_annotated\\\\0_2_44_p0_ELAN_tiers.csv', 'e:\\\\FLESH_ContinuousBodilyEffort\\\\02_0_TS_movementAnnotation/MT_annotated\\\\0_2_45_p0_ELAN_tiers.csv', 'e:\\\\FLESH_ContinuousBodilyEffort\\\\02_0_TS_movementAnnotation/MT_annotated\\\\0_2_46_p0_ELAN_tiers.csv', 'e:\\\\FLESH_ContinuousBodilyEffort\\\\02_0_TS_movementAnnotation/MT_annotated\\\\0_2_47_p0_ELAN_tiers.csv', 'e:\\\\FLESH_ContinuousBodilyEffort\\\\02_0_TS_movementAnnotation/MT_annotated\\\\0_2_48_p0_ELAN_tiers.csv', 'e:\\\\FLESH_ContinuousBodilyEffort\\\\02_0_TS_movementAnnotation/MT_annotated\\\\0_2_49_p0_ELAN_tiers.csv', 'e:\\\\FLESH_ContinuousBodilyEffort\\\\02_0_TS_movementAnnotation/MT_annotated\\\\0_2_4_p0_ELAN_tiers.csv', 'e:\\\\FLESH_ContinuousBodilyEffort\\\\02_0_TS_movementAnnotation/MT_annotated\\\\0_2_50_p0_ELAN_tiers.csv', 'e:\\\\FLESH_ContinuousBodilyEffort\\\\02_0_TS_movementAnnotation/MT_annotated\\\\0_2_51_p0_ELAN_tiers.csv', 'e:\\\\FLESH_ContinuousBodilyEffort\\\\02_0_TS_movementAnnotation/MT_annotated\\\\0_2_52_p0_ELAN_tiers.csv', 'e:\\\\FLESH_ContinuousBodilyEffort\\\\02_0_TS_movementAnnotation/MT_annotated\\\\0_2_53_p1_ELAN_tiers.csv', 'e:\\\\FLESH_ContinuousBodilyEffort\\\\02_0_TS_movementAnnotation/MT_annotated\\\\0_2_54_p1_ELAN_tiers.csv', 'e:\\\\FLESH_ContinuousBodilyEffort\\\\02_0_TS_movementAnnotation/MT_annotated\\\\0_2_55_p1_ELAN_tiers.csv', 'e:\\\\FLESH_ContinuousBodilyEffort\\\\02_0_TS_movementAnnotation/MT_annotated\\\\0_2_56_p1_ELAN_tiers.csv', 'e:\\\\FLESH_ContinuousBodilyEffort\\\\02_0_TS_movementAnnotation/MT_annotated\\\\0_2_57_p1_ELAN_tiers.csv', 'e:\\\\FLESH_ContinuousBodilyEffort\\\\02_0_TS_movementAnnotation/MT_annotated\\\\0_2_58_p1_ELAN_tiers.csv', 'e:\\\\FLESH_ContinuousBodilyEffort\\\\02_0_TS_movementAnnotation/MT_annotated\\\\0_2_59_p1_ELAN_tiers.csv', 'e:\\\\FLESH_ContinuousBodilyEffort\\\\02_0_TS_movementAnnotation/MT_annotated\\\\0_2_5_p0_ELAN_tiers.csv', 'e:\\\\FLESH_ContinuousBodilyEffort\\\\02_0_TS_movementAnnotation/MT_annotated\\\\0_2_60_p1_ELAN_tiers.csv', 'e:\\\\FLESH_ContinuousBodilyEffort\\\\02_0_TS_movementAnnotation/MT_annotated\\\\0_2_61_p1_ELAN_tiers.csv', 'e:\\\\FLESH_ContinuousBodilyEffort\\\\02_0_TS_movementAnnotation/MT_annotated\\\\0_2_62_p1_ELAN_tiers.csv', 'e:\\\\FLESH_ContinuousBodilyEffort\\\\02_0_TS_movementAnnotation/MT_annotated\\\\0_2_63_p1_ELAN_tiers.csv', 'e:\\\\FLESH_ContinuousBodilyEffort\\\\02_0_TS_movementAnnotation/MT_annotated\\\\0_2_64_p1_ELAN_tiers.csv', 'e:\\\\FLESH_ContinuousBodilyEffort\\\\02_0_TS_movementAnnotation/MT_annotated\\\\0_2_65_p1_ELAN_tiers.csv', 'e:\\\\FLESH_ContinuousBodilyEffort\\\\02_0_TS_movementAnnotation/MT_annotated\\\\0_2_67_p0_ELAN_tiers.csv', 'e:\\\\FLESH_ContinuousBodilyEffort\\\\02_0_TS_movementAnnotation/MT_annotated\\\\0_2_68_p0_ELAN_tiers.csv', 'e:\\\\FLESH_ContinuousBodilyEffort\\\\02_0_TS_movementAnnotation/MT_annotated\\\\0_2_69_p0_ELAN_tiers.csv', 'e:\\\\FLESH_ContinuousBodilyEffort\\\\02_0_TS_movementAnnotation/MT_annotated\\\\0_2_6_p0_ELAN_tiers.csv', 'e:\\\\FLESH_ContinuousBodilyEffort\\\\02_0_TS_movementAnnotation/MT_annotated\\\\0_2_70_p0_ELAN_tiers.csv', 'e:\\\\FLESH_ContinuousBodilyEffort\\\\02_0_TS_movementAnnotation/MT_annotated\\\\0_2_71_p0_ELAN_tiers.csv', 'e:\\\\FLESH_ContinuousBodilyEffort\\\\02_0_TS_movementAnnotation/MT_annotated\\\\0_2_72_p0_ELAN_tiers.csv', 'e:\\\\FLESH_ContinuousBodilyEffort\\\\02_0_TS_movementAnnotation/MT_annotated\\\\0_2_73_p0_ELAN_tiers.csv', 'e:\\\\FLESH_ContinuousBodilyEffort\\\\02_0_TS_movementAnnotation/MT_annotated\\\\0_2_74_p0_ELAN_tiers.csv', 'e:\\\\FLESH_ContinuousBodilyEffort\\\\02_0_TS_movementAnnotation/MT_annotated\\\\0_2_75_p0_ELAN_tiers.csv', 'e:\\\\FLESH_ContinuousBodilyEffort\\\\02_0_TS_movementAnnotation/MT_annotated\\\\0_2_76_p0_ELAN_tiers.csv', 'e:\\\\FLESH_ContinuousBodilyEffort\\\\02_0_TS_movementAnnotation/MT_annotated\\\\0_2_77_p0_ELAN_tiers.csv', 'e:\\\\FLESH_ContinuousBodilyEffort\\\\02_0_TS_movementAnnotation/MT_annotated\\\\0_2_78_p0_ELAN_tiers.csv', 'e:\\\\FLESH_ContinuousBodilyEffort\\\\02_0_TS_movementAnnotation/MT_annotated\\\\0_2_79_p0_ELAN_tiers.csv', 'e:\\\\FLESH_ContinuousBodilyEffort\\\\02_0_TS_movementAnnotation/MT_annotated\\\\0_2_7_p0_ELAN_tiers.csv', 'e:\\\\FLESH_ContinuousBodilyEffort\\\\02_0_TS_movementAnnotation/MT_annotated\\\\0_2_80_p0_ELAN_tiers.csv', 'e:\\\\FLESH_ContinuousBodilyEffort\\\\02_0_TS_movementAnnotation/MT_annotated\\\\0_2_81_p0_ELAN_tiers.csv', 'e:\\\\FLESH_ContinuousBodilyEffort\\\\02_0_TS_movementAnnotation/MT_annotated\\\\0_2_82_p0_ELAN_tiers.csv', 'e:\\\\FLESH_ContinuousBodilyEffort\\\\02_0_TS_movementAnnotation/MT_annotated\\\\0_2_83_p0_ELAN_tiers.csv', 'e:\\\\FLESH_ContinuousBodilyEffort\\\\02_0_TS_movementAnnotation/MT_annotated\\\\0_2_84_p0_ELAN_tiers.csv', 'e:\\\\FLESH_ContinuousBodilyEffort\\\\02_0_TS_movementAnnotation/MT_annotated\\\\0_2_85_p0_ELAN_tiers.csv', 'e:\\\\FLESH_ContinuousBodilyEffort\\\\02_0_TS_movementAnnotation/MT_annotated\\\\0_2_86_p0_ELAN_tiers.csv', 'e:\\\\FLESH_ContinuousBodilyEffort\\\\02_0_TS_movementAnnotation/MT_annotated\\\\0_2_87_p0_ELAN_tiers.csv', 'e:\\\\FLESH_ContinuousBodilyEffort\\\\02_0_TS_movementAnnotation/MT_annotated\\\\0_2_88_p0_ELAN_tiers.csv', 'e:\\\\FLESH_ContinuousBodilyEffort\\\\02_0_TS_movementAnnotation/MT_annotated\\\\0_2_89_p0_ELAN_tiers.csv', 'e:\\\\FLESH_ContinuousBodilyEffort\\\\02_0_TS_movementAnnotation/MT_annotated\\\\0_2_8_p0_ELAN_tiers.csv', 'e:\\\\FLESH_ContinuousBodilyEffort\\\\02_0_TS_movementAnnotation/MT_annotated\\\\0_2_90_p0_ELAN_tiers.csv', 'e:\\\\FLESH_ContinuousBodilyEffort\\\\02_0_TS_movementAnnotation/MT_annotated\\\\0_2_91_p0_ELAN_tiers.csv', 'e:\\\\FLESH_ContinuousBodilyEffort\\\\02_0_TS_movementAnnotation/MT_annotated\\\\0_2_92_p1_ELAN_tiers.csv', 'e:\\\\FLESH_ContinuousBodilyEffort\\\\02_0_TS_movementAnnotation/MT_annotated\\\\0_2_93_p1_ELAN_tiers.csv', 'e:\\\\FLESH_ContinuousBodilyEffort\\\\02_0_TS_movementAnnotation/MT_annotated\\\\0_2_94_p1_ELAN_tiers.csv', 'e:\\\\FLESH_ContinuousBodilyEffort\\\\02_0_TS_movementAnnotation/MT_annotated\\\\0_2_95_p1_ELAN_tiers.csv', 'e:\\\\FLESH_ContinuousBodilyEffort\\\\02_0_TS_movementAnnotation/MT_annotated\\\\0_2_96_p1_ELAN_tiers.csv', 'e:\\\\FLESH_ContinuousBodilyEffort\\\\02_0_TS_movementAnnotation/MT_annotated\\\\0_2_97_p1_ELAN_tiers.csv', 'e:\\\\FLESH_ContinuousBodilyEffort\\\\02_0_TS_movementAnnotation/MT_annotated\\\\0_2_98_p1_ELAN_tiers.csv', 'e:\\\\FLESH_ContinuousBodilyEffort\\\\02_0_TS_movementAnnotation/MT_annotated\\\\0_2_99_p1_ELAN_tiers.csv', 'e:\\\\FLESH_ContinuousBodilyEffort\\\\02_0_TS_movementAnnotation/MT_annotated\\\\0_2_9_p0_ELAN_tiers.csv']\n",
      "['e:\\\\FLESH_ContinuousBodilyEffort\\\\02_0_TS_movementAnnotation/ManualAnno/R1\\\\0_1_11_p1_ELAN_tiers.eaf', 'e:\\\\FLESH_ContinuousBodilyEffort\\\\02_0_TS_movementAnnotation/ManualAnno/R1\\\\0_1_12_p1_ELAN_tiers.eaf', 'e:\\\\FLESH_ContinuousBodilyEffort\\\\02_0_TS_movementAnnotation/ManualAnno/R1\\\\0_1_13_p1_ELAN_tiers.eaf', 'e:\\\\FLESH_ContinuousBodilyEffort\\\\02_0_TS_movementAnnotation/ManualAnno/R1\\\\0_1_14_p1_ELAN_tiers.eaf', 'e:\\\\FLESH_ContinuousBodilyEffort\\\\02_0_TS_movementAnnotation/ManualAnno/R1\\\\0_1_15_p1_ELAN_tiers.eaf', 'e:\\\\FLESH_ContinuousBodilyEffort\\\\02_0_TS_movementAnnotation/ManualAnno/R1\\\\0_1_16_p1_ELAN_tiers.eaf', 'e:\\\\FLESH_ContinuousBodilyEffort\\\\02_0_TS_movementAnnotation/ManualAnno/R1\\\\0_1_17_p1_ELAN_tiers.eaf', 'e:\\\\FLESH_ContinuousBodilyEffort\\\\02_0_TS_movementAnnotation/ManualAnno/R1\\\\0_1_20_p0_ELAN_tiers.eaf', 'e:\\\\FLESH_ContinuousBodilyEffort\\\\02_0_TS_movementAnnotation/ManualAnno/R1\\\\0_1_21_p0_ELAN_tiers.eaf', 'e:\\\\FLESH_ContinuousBodilyEffort\\\\02_0_TS_movementAnnotation/ManualAnno/R1\\\\0_1_22_p0_ELAN_tiers.eaf', 'e:\\\\FLESH_ContinuousBodilyEffort\\\\02_0_TS_movementAnnotation/ManualAnno/R1\\\\0_1_23_p0_ELAN_tiers.eaf', 'e:\\\\FLESH_ContinuousBodilyEffort\\\\02_0_TS_movementAnnotation/ManualAnno/R1\\\\0_1_24_p0_ELAN_tiers.eaf', 'e:\\\\FLESH_ContinuousBodilyEffort\\\\02_0_TS_movementAnnotation/ManualAnno/R1\\\\0_1_25_p0_ELAN_tiers.eaf', 'e:\\\\FLESH_ContinuousBodilyEffort\\\\02_0_TS_movementAnnotation/ManualAnno/R1\\\\0_1_26_p0_ELAN_tiers.eaf', 'e:\\\\FLESH_ContinuousBodilyEffort\\\\02_0_TS_movementAnnotation/ManualAnno/R1\\\\0_1_29_p1_ELAN_tiers.eaf', 'e:\\\\FLESH_ContinuousBodilyEffort\\\\02_0_TS_movementAnnotation/ManualAnno/R1\\\\0_1_30_p1_ELAN_tiers.eaf', 'e:\\\\FLESH_ContinuousBodilyEffort\\\\02_0_TS_movementAnnotation/ManualAnno/R1\\\\0_1_31_p1_ELAN_tiers.eaf', 'e:\\\\FLESH_ContinuousBodilyEffort\\\\02_0_TS_movementAnnotation/ManualAnno/R1\\\\0_1_32_p1_ELAN_tiers.eaf', 'e:\\\\FLESH_ContinuousBodilyEffort\\\\02_0_TS_movementAnnotation/ManualAnno/R1\\\\0_1_33_p1_ELAN_tiers.eaf', 'e:\\\\FLESH_ContinuousBodilyEffort\\\\02_0_TS_movementAnnotation/ManualAnno/R1\\\\0_1_34_p1_ELAN_tiers.eaf', 'e:\\\\FLESH_ContinuousBodilyEffort\\\\02_0_TS_movementAnnotation/ManualAnno/R1\\\\0_1_35_p1_ELAN_tiers.eaf', 'e:\\\\FLESH_ContinuousBodilyEffort\\\\02_0_TS_movementAnnotation/ManualAnno/R1\\\\0_1_38_p0_ELAN_tiers.eaf', 'e:\\\\FLESH_ContinuousBodilyEffort\\\\02_0_TS_movementAnnotation/ManualAnno/R1\\\\0_1_39_p0_ELAN_tiers.eaf', 'e:\\\\FLESH_ContinuousBodilyEffort\\\\02_0_TS_movementAnnotation/ManualAnno/R1\\\\0_1_40_p0_ELAN_tiers.eaf', 'e:\\\\FLESH_ContinuousBodilyEffort\\\\02_0_TS_movementAnnotation/ManualAnno/R1\\\\0_1_41_p0_ELAN_tiers.eaf', 'e:\\\\FLESH_ContinuousBodilyEffort\\\\02_0_TS_movementAnnotation/ManualAnno/R1\\\\0_1_42_p0_ELAN_tiers.eaf', 'e:\\\\FLESH_ContinuousBodilyEffort\\\\02_0_TS_movementAnnotation/ManualAnno/R1\\\\0_1_43_p0_ELAN_tiers.eaf', 'e:\\\\FLESH_ContinuousBodilyEffort\\\\02_0_TS_movementAnnotation/ManualAnno/R1\\\\0_1_44_p0_ELAN_tiers.eaf', 'e:\\\\FLESH_ContinuousBodilyEffort\\\\02_0_TS_movementAnnotation/ManualAnno/R1\\\\0_1_47_p1_ELAN_tiers.eaf', 'e:\\\\FLESH_ContinuousBodilyEffort\\\\02_0_TS_movementAnnotation/ManualAnno/R1\\\\0_1_48_p1_ELAN_tiers.eaf', 'e:\\\\FLESH_ContinuousBodilyEffort\\\\02_0_TS_movementAnnotation/ManualAnno/R1\\\\0_1_49_p1_ELAN_tiers.eaf', 'e:\\\\FLESH_ContinuousBodilyEffort\\\\02_0_TS_movementAnnotation/ManualAnno/R1\\\\0_1_50_p1_ELAN_tiers.eaf', 'e:\\\\FLESH_ContinuousBodilyEffort\\\\02_0_TS_movementAnnotation/ManualAnno/R1\\\\0_1_51_p1_ELAN_tiers.eaf', 'e:\\\\FLESH_ContinuousBodilyEffort\\\\02_0_TS_movementAnnotation/ManualAnno/R1\\\\0_1_52_p1_ELAN_tiers.eaf', 'e:\\\\FLESH_ContinuousBodilyEffort\\\\02_0_TS_movementAnnotation/ManualAnno/R1\\\\0_1_53_p1_ELAN_tiers.eaf', 'e:\\\\FLESH_ContinuousBodilyEffort\\\\02_0_TS_movementAnnotation/ManualAnno/R1\\\\0_2_75_p0_ELAN_tiers.eaf', 'e:\\\\FLESH_ContinuousBodilyEffort\\\\02_0_TS_movementAnnotation/ManualAnno/R1\\\\0_2_76_p0_ELAN_tiers.eaf', 'e:\\\\FLESH_ContinuousBodilyEffort\\\\02_0_TS_movementAnnotation/ManualAnno/R1\\\\0_2_77_p0_ELAN_tiers.eaf', 'e:\\\\FLESH_ContinuousBodilyEffort\\\\02_0_TS_movementAnnotation/ManualAnno/R1\\\\0_2_78_p0_ELAN_tiers.eaf', 'e:\\\\FLESH_ContinuousBodilyEffort\\\\02_0_TS_movementAnnotation/ManualAnno/R1\\\\0_2_79_p0_ELAN_tiers.eaf', 'e:\\\\FLESH_ContinuousBodilyEffort\\\\02_0_TS_movementAnnotation/ManualAnno/R1\\\\0_2_80_p0_ELAN_tiers.eaf', 'e:\\\\FLESH_ContinuousBodilyEffort\\\\02_0_TS_movementAnnotation/ManualAnno/R1\\\\0_2_81_p0_ELAN_tiers.eaf', 'e:\\\\FLESH_ContinuousBodilyEffort\\\\02_0_TS_movementAnnotation/ManualAnno/R1\\\\0_2_82_p0_ELAN_tiers.eaf', 'e:\\\\FLESH_ContinuousBodilyEffort\\\\02_0_TS_movementAnnotation/ManualAnno/R1\\\\0_2_83_p0_ELAN_tiers.eaf', 'e:\\\\FLESH_ContinuousBodilyEffort\\\\02_0_TS_movementAnnotation/ManualAnno/R1\\\\0_2_84_p0_ELAN_tiers.eaf', 'e:\\\\FLESH_ContinuousBodilyEffort\\\\02_0_TS_movementAnnotation/ManualAnno/R1\\\\0_2_85_p0_ELAN_tiers.eaf', 'e:\\\\FLESH_ContinuousBodilyEffort\\\\02_0_TS_movementAnnotation/ManualAnno/R1\\\\0_2_86_p0_ELAN_tiers.eaf', 'e:\\\\FLESH_ContinuousBodilyEffort\\\\02_0_TS_movementAnnotation/ManualAnno/R1\\\\0_2_87_p0_ELAN_tiers.eaf', 'e:\\\\FLESH_ContinuousBodilyEffort\\\\02_0_TS_movementAnnotation/ManualAnno/R1\\\\0_2_88_p0_ELAN_tiers.eaf', 'e:\\\\FLESH_ContinuousBodilyEffort\\\\02_0_TS_movementAnnotation/ManualAnno/R1\\\\0_2_89_p0_ELAN_tiers.eaf', 'e:\\\\FLESH_ContinuousBodilyEffort\\\\02_0_TS_movementAnnotation/ManualAnno/R1\\\\0_2_90_p0_ELAN_tiers.eaf', 'e:\\\\FLESH_ContinuousBodilyEffort\\\\02_0_TS_movementAnnotation/ManualAnno/R1\\\\0_2_91_p0_ELAN_tiers.eaf', 'e:\\\\FLESH_ContinuousBodilyEffort\\\\02_0_TS_movementAnnotation/ManualAnno/R1\\\\0_2_98_p1_ELAN_tiers.eaf', 'e:\\\\FLESH_ContinuousBodilyEffort\\\\02_0_TS_movementAnnotation/ManualAnno/R1\\\\0_2_99_p1_ELAN_tiers.eaf', 'e:\\\\FLESH_ContinuousBodilyEffort\\\\02_0_TS_movementAnnotation/ManualAnno/R1\\\\0_2_100_p1_ELAN_tiers.eaf', 'e:\\\\FLESH_ContinuousBodilyEffort\\\\02_0_TS_movementAnnotation/ManualAnno/R1\\\\0_2_101_p1_ELAN_tiers.eaf', 'e:\\\\FLESH_ContinuousBodilyEffort\\\\02_0_TS_movementAnnotation/ManualAnno/R1\\\\0_2_102_p1_ELAN_tiers.eaf', 'e:\\\\FLESH_ContinuousBodilyEffort\\\\02_0_TS_movementAnnotation/ManualAnno/R1\\\\0_2_103_p1_ELAN_tiers.eaf', 'e:\\\\FLESH_ContinuousBodilyEffort\\\\02_0_TS_movementAnnotation/ManualAnno/R1\\\\0_2_104_p1_ELAN_tiers.eaf', 'e:\\\\FLESH_ContinuousBodilyEffort\\\\02_0_TS_movementAnnotation/ManualAnno/R1\\\\0_2_105_p1_ELAN_tiers.eaf', 'e:\\\\FLESH_ContinuousBodilyEffort\\\\02_0_TS_movementAnnotation/ManualAnno/R1\\\\0_2_106_p1_ELAN_tiers.eaf', 'e:\\\\FLESH_ContinuousBodilyEffort\\\\02_0_TS_movementAnnotation/ManualAnno/R1\\\\0_2_107_p1_ELAN_tiers.eaf', 'e:\\\\FLESH_ContinuousBodilyEffort\\\\02_0_TS_movementAnnotation/ManualAnno/R1\\\\0_2_108_p1_ELAN_tiers.eaf', 'e:\\\\FLESH_ContinuousBodilyEffort\\\\02_0_TS_movementAnnotation/ManualAnno/R1\\\\0_2_109_p1_ELAN_tiers.eaf', 'e:\\\\FLESH_ContinuousBodilyEffort\\\\02_0_TS_movementAnnotation/ManualAnno/R1\\\\0_2_110_p1_ELAN_tiers.eaf', 'e:\\\\FLESH_ContinuousBodilyEffort\\\\02_0_TS_movementAnnotation/ManualAnno/R1\\\\0_2_111_p1_ELAN_tiers.eaf', 'e:\\\\FLESH_ContinuousBodilyEffort\\\\02_0_TS_movementAnnotation/ManualAnno/R1\\\\0_2_112_p1_ELAN_tiers.eaf', 'e:\\\\FLESH_ContinuousBodilyEffort\\\\02_0_TS_movementAnnotation/ManualAnno/R1\\\\0_2_113_p1_ELAN_tiers.eaf', 'e:\\\\FLESH_ContinuousBodilyEffort\\\\02_0_TS_movementAnnotation/ManualAnno/R1\\\\0_1_2_p0_ELAN_tiers.eaf', 'e:\\\\FLESH_ContinuousBodilyEffort\\\\02_0_TS_movementAnnotation/ManualAnno/R1\\\\0_1_3_p0_ELAN_tiers.eaf', 'e:\\\\FLESH_ContinuousBodilyEffort\\\\02_0_TS_movementAnnotation/ManualAnno/R1\\\\0_1_4_p0_ELAN_tiers.eaf', 'e:\\\\FLESH_ContinuousBodilyEffort\\\\02_0_TS_movementAnnotation/ManualAnno/R1\\\\0_1_5_p0_ELAN_tiers.eaf', 'e:\\\\FLESH_ContinuousBodilyEffort\\\\02_0_TS_movementAnnotation/ManualAnno/R1\\\\0_1_6_p0_ELAN_tiers.eaf', 'e:\\\\FLESH_ContinuousBodilyEffort\\\\02_0_TS_movementAnnotation/ManualAnno/R1\\\\0_1_7_p0_ELAN_tiers.eaf', 'e:\\\\FLESH_ContinuousBodilyEffort\\\\02_0_TS_movementAnnotation/ManualAnno/R1\\\\0_1_8_p0_ELAN_tiers.eaf', 'e:\\\\FLESH_ContinuousBodilyEffort\\\\02_0_TS_movementAnnotation/ManualAnno/R1\\\\0_2_2_p0_ELAN_tiers.eaf', 'e:\\\\FLESH_ContinuousBodilyEffort\\\\02_0_TS_movementAnnotation/ManualAnno/R1\\\\0_2_3_p0_ELAN_tiers.eaf', 'e:\\\\FLESH_ContinuousBodilyEffort\\\\02_0_TS_movementAnnotation/ManualAnno/R1\\\\0_2_4_p0_ELAN_tiers.eaf', 'e:\\\\FLESH_ContinuousBodilyEffort\\\\02_0_TS_movementAnnotation/ManualAnno/R1\\\\0_2_5_p0_ELAN_tiers.eaf', 'e:\\\\FLESH_ContinuousBodilyEffort\\\\02_0_TS_movementAnnotation/ManualAnno/R1\\\\0_2_6_p0_ELAN_tiers.eaf', 'e:\\\\FLESH_ContinuousBodilyEffort\\\\02_0_TS_movementAnnotation/ManualAnno/R1\\\\0_2_7_p0_ELAN_tiers.eaf', 'e:\\\\FLESH_ContinuousBodilyEffort\\\\02_0_TS_movementAnnotation/ManualAnno/R1\\\\0_2_8_p0_ELAN_tiers.eaf', 'e:\\\\FLESH_ContinuousBodilyEffort\\\\02_0_TS_movementAnnotation/ManualAnno/R1\\\\0_2_9_p0_ELAN_tiers.eaf', 'e:\\\\FLESH_ContinuousBodilyEffort\\\\02_0_TS_movementAnnotation/ManualAnno/R1\\\\0_2_10_p0_ELAN_tiers.eaf', 'e:\\\\FLESH_ContinuousBodilyEffort\\\\02_0_TS_movementAnnotation/ManualAnno/R1\\\\0_2_11_p0_ELAN_tiers.eaf', 'e:\\\\FLESH_ContinuousBodilyEffort\\\\02_0_TS_movementAnnotation/ManualAnno/R1\\\\0_2_12_p0_ELAN_tiers.eaf', 'e:\\\\FLESH_ContinuousBodilyEffort\\\\02_0_TS_movementAnnotation/ManualAnno/R1\\\\0_2_13_p0_ELAN_tiers.eaf', 'e:\\\\FLESH_ContinuousBodilyEffort\\\\02_0_TS_movementAnnotation/ManualAnno/R1\\\\0_2_14_p0_ELAN_tiers.eaf', 'e:\\\\FLESH_ContinuousBodilyEffort\\\\02_0_TS_movementAnnotation/ManualAnno/R1\\\\0_2_15_p0_ELAN_tiers.eaf', 'e:\\\\FLESH_ContinuousBodilyEffort\\\\02_0_TS_movementAnnotation/ManualAnno/R1\\\\0_2_16_p0_ELAN_tiers.eaf', 'e:\\\\FLESH_ContinuousBodilyEffort\\\\02_0_TS_movementAnnotation/ManualAnno/R1\\\\0_2_17_p0_ELAN_tiers.eaf', 'e:\\\\FLESH_ContinuousBodilyEffort\\\\02_0_TS_movementAnnotation/ManualAnno/R1\\\\0_2_18_p0_ELAN_tiers.eaf', 'e:\\\\FLESH_ContinuousBodilyEffort\\\\02_0_TS_movementAnnotation/ManualAnno/R1\\\\0_2_23_p1_ELAN_tiers.eaf', 'e:\\\\FLESH_ContinuousBodilyEffort\\\\02_0_TS_movementAnnotation/ManualAnno/R1\\\\0_2_24_p1_ELAN_tiers.eaf', 'e:\\\\FLESH_ContinuousBodilyEffort\\\\02_0_TS_movementAnnotation/ManualAnno/R1\\\\0_2_25_p1_ELAN_tiers.eaf', 'e:\\\\FLESH_ContinuousBodilyEffort\\\\02_0_TS_movementAnnotation/ManualAnno/R1\\\\0_2_26_p1_ELAN_tiers.eaf', 'e:\\\\FLESH_ContinuousBodilyEffort\\\\02_0_TS_movementAnnotation/ManualAnno/R1\\\\0_2_27_p1_ELAN_tiers.eaf', 'e:\\\\FLESH_ContinuousBodilyEffort\\\\02_0_TS_movementAnnotation/ManualAnno/R1\\\\0_2_28_p1_ELAN_tiers.eaf', 'e:\\\\FLESH_ContinuousBodilyEffort\\\\02_0_TS_movementAnnotation/ManualAnno/R1\\\\0_2_29_p1_ELAN_tiers.eaf', 'e:\\\\FLESH_ContinuousBodilyEffort\\\\02_0_TS_movementAnnotation/ManualAnno/R1\\\\0_2_30_p1_ELAN_tiers.eaf', 'e:\\\\FLESH_ContinuousBodilyEffort\\\\02_0_TS_movementAnnotation/ManualAnno/R1\\\\0_2_31_p1_ELAN_tiers.eaf', 'e:\\\\FLESH_ContinuousBodilyEffort\\\\02_0_TS_movementAnnotation/ManualAnno/R1\\\\0_2_32_p1_ELAN_tiers.eaf', 'e:\\\\FLESH_ContinuousBodilyEffort\\\\02_0_TS_movementAnnotation/ManualAnno/R1\\\\0_2_33_p1_ELAN_tiers.eaf', 'e:\\\\FLESH_ContinuousBodilyEffort\\\\02_0_TS_movementAnnotation/ManualAnno/R1\\\\0_2_34_p1_ELAN_tiers.eaf', 'e:\\\\FLESH_ContinuousBodilyEffort\\\\02_0_TS_movementAnnotation/ManualAnno/R1\\\\0_2_35_p1_ELAN_tiers.eaf', 'e:\\\\FLESH_ContinuousBodilyEffort\\\\02_0_TS_movementAnnotation/ManualAnno/R1\\\\0_2_36_p1_ELAN_tiers.eaf', 'e:\\\\FLESH_ContinuousBodilyEffort\\\\02_0_TS_movementAnnotation/ManualAnno/R1\\\\0_2_37_p1_ELAN_tiers.eaf', 'e:\\\\FLESH_ContinuousBodilyEffort\\\\02_0_TS_movementAnnotation/ManualAnno/R1\\\\0_2_41_p0_ELAN_tiers.eaf', 'e:\\\\FLESH_ContinuousBodilyEffort\\\\02_0_TS_movementAnnotation/ManualAnno/R1\\\\0_2_42_p0_ELAN_tiers.eaf', 'e:\\\\FLESH_ContinuousBodilyEffort\\\\02_0_TS_movementAnnotation/ManualAnno/R1\\\\0_2_43_p0_ELAN_tiers.eaf', 'e:\\\\FLESH_ContinuousBodilyEffort\\\\02_0_TS_movementAnnotation/ManualAnno/R1\\\\0_2_44_p0_ELAN_tiers.eaf', 'e:\\\\FLESH_ContinuousBodilyEffort\\\\02_0_TS_movementAnnotation/ManualAnno/R1\\\\0_2_45_p0_ELAN_tiers.eaf', 'e:\\\\FLESH_ContinuousBodilyEffort\\\\02_0_TS_movementAnnotation/ManualAnno/R1\\\\0_2_46_p0_ELAN_tiers.eaf', 'e:\\\\FLESH_ContinuousBodilyEffort\\\\02_0_TS_movementAnnotation/ManualAnno/R1\\\\0_2_47_p0_ELAN_tiers.eaf', 'e:\\\\FLESH_ContinuousBodilyEffort\\\\02_0_TS_movementAnnotation/ManualAnno/R1\\\\0_2_48_p0_ELAN_tiers.eaf', 'e:\\\\FLESH_ContinuousBodilyEffort\\\\02_0_TS_movementAnnotation/ManualAnno/R1\\\\0_2_49_p0_ELAN_tiers.eaf', 'e:\\\\FLESH_ContinuousBodilyEffort\\\\02_0_TS_movementAnnotation/ManualAnno/R1\\\\0_2_50_p0_ELAN_tiers.eaf', 'e:\\\\FLESH_ContinuousBodilyEffort\\\\02_0_TS_movementAnnotation/ManualAnno/R1\\\\0_2_51_p0_ELAN_tiers.eaf', 'e:\\\\FLESH_ContinuousBodilyEffort\\\\02_0_TS_movementAnnotation/ManualAnno/R1\\\\0_2_52_p0_ELAN_tiers.eaf', 'e:\\\\FLESH_ContinuousBodilyEffort\\\\02_0_TS_movementAnnotation/ManualAnno/R1\\\\0_2_57_p1_ELAN_tiers.eaf', 'e:\\\\FLESH_ContinuousBodilyEffort\\\\02_0_TS_movementAnnotation/ManualAnno/R1\\\\0_2_58_p1_ELAN_tiers.eaf', 'e:\\\\FLESH_ContinuousBodilyEffort\\\\02_0_TS_movementAnnotation/ManualAnno/R1\\\\0_2_59_p1_ELAN_tiers.eaf', 'e:\\\\FLESH_ContinuousBodilyEffort\\\\02_0_TS_movementAnnotation/ManualAnno/R1\\\\0_2_60_p1_ELAN_tiers.eaf', 'e:\\\\FLESH_ContinuousBodilyEffort\\\\02_0_TS_movementAnnotation/ManualAnno/R1\\\\0_2_61_p1_ELAN_tiers.eaf', 'e:\\\\FLESH_ContinuousBodilyEffort\\\\02_0_TS_movementAnnotation/ManualAnno/R1\\\\0_2_62_p1_ELAN_tiers.eaf', 'e:\\\\FLESH_ContinuousBodilyEffort\\\\02_0_TS_movementAnnotation/ManualAnno/R1\\\\0_2_63_p1_ELAN_tiers.eaf', 'e:\\\\FLESH_ContinuousBodilyEffort\\\\02_0_TS_movementAnnotation/ManualAnno/R1\\\\0_2_64_p1_ELAN_tiers.eaf', 'e:\\\\FLESH_ContinuousBodilyEffort\\\\02_0_TS_movementAnnotation/ManualAnno/R1\\\\0_2_65_p1_ELAN_tiers.eaf', 'e:\\\\FLESH_ContinuousBodilyEffort\\\\02_0_TS_movementAnnotation/ManualAnno/R1\\\\0_2_66_p1_ELAN_tiers.eaf', 'e:\\\\FLESH_ContinuousBodilyEffort\\\\02_0_TS_movementAnnotation/ManualAnno/R1\\\\0_2_73_p0_ELAN_tiers.eaf', 'e:\\\\FLESH_ContinuousBodilyEffort\\\\02_0_TS_movementAnnotation/ManualAnno/R1\\\\0_2_74_p0_ELAN_tiers.eaf']\n"
     ]
    }
   ],
   "source": [
    "import os\n",
    "import glob\n",
    "\n",
    "curfolder = os.getcwd()\n",
    "print(curfolder)\n",
    "\n",
    "TSmerged = curfolder + '../01_TS_processing/TS_merged/'\n",
    "(print(TSmerged))\n",
    "\n",
    "annofolder_auto = curfolder + '/MT_annotated/'\n",
    "annofolder_manu = curfolder + '/ManualAnno/R1/'\n",
    "annofiles_auto = glob.glob(annofolder_auto + '*ELAN_tiers.csv')\n",
    "print(annofiles_auto)\n",
    "annofiles_manu = glob.glob(annofolder_manu + '*ELAN_tiers.eaf')\n",
    "print(annofiles_manu)\n",
    "\n",
    "mergedfiles = glob.glob(TSmerged + '/merged*.csv')\n",
    "mergedfiles = [x for x in mergedfiles if 'anno' not in x]\n"
   ]
  },
  {
   "cell_type": "markdown",
   "metadata": {},
   "source": [
    "## Function to parse annotation from ELAN"
   ]
  },
  {
   "cell_type": "code",
   "execution_count": 8,
   "metadata": {},
   "outputs": [],
   "source": [
    "## add to it also vocalization tier\n",
    "\n",
    "import xml.etree.ElementTree as ET\n",
    "\n",
    "def parse_eaf_file(eaf_file, rel_tiers):\n",
    "    tree = ET.parse(eaf_file)\n",
    "    root = tree.getroot()\n",
    "\n",
    "    time_order = root.find('TIME_ORDER')\n",
    "    time_slots = {time_slot.attrib['TIME_SLOT_ID']: time_slot.attrib['TIME_VALUE'] for time_slot in time_order}\n",
    "\n",
    "    annotations = []\n",
    "    relevant_tiers = {rel_tiers}\n",
    "    for tier in root.findall('TIER'):\n",
    "        tier_id = tier.attrib['TIER_ID']\n",
    "        if tier_id in relevant_tiers:\n",
    "            for annotation in tier.findall('ANNOTATION/ALIGNABLE_ANNOTATION'):\n",
    "                # Ensure required attributes are present\n",
    "                if 'TIME_SLOT_REF1' in annotation.attrib and 'TIME_SLOT_REF2' in annotation.attrib:\n",
    "                    ts_ref1 = annotation.attrib['TIME_SLOT_REF1']\n",
    "                    ts_ref2 = annotation.attrib['TIME_SLOT_REF2']\n",
    "                    # Get annotation ID if it exists, otherwise set to None\n",
    "                    ann_id = annotation.attrib.get('ANNOTATION_ID', None)\n",
    "                    annotation_value = annotation.find('ANNOTATION_VALUE').text.strip()\n",
    "                    annotations.append({\n",
    "                        'tier_id': tier_id,\n",
    "                        'annotation_id': ann_id,\n",
    "                        'start_time': time_slots[ts_ref1],\n",
    "                        'end_time': time_slots[ts_ref2],\n",
    "                        'annotation_value': annotation_value\n",
    "                    })\n",
    "\n",
    "    return annotations\n"
   ]
  },
  {
   "cell_type": "markdown",
   "metadata": {},
   "source": [
    "Get "
   ]
  },
  {
   "cell_type": "markdown",
   "metadata": {},
   "source": [
    "## Get vocalizations from ELAN"
   ]
  },
  {
   "cell_type": "code",
   "execution_count": null,
   "metadata": {},
   "outputs": [],
   "source": [
    "manualannofiles = glob.glob(curfolder + '/ManualAnno/R1/*ELAN_tiers.eaf') # Ola's\n",
    "\n",
    "# txt file to write the annotations\n",
    "vocal_anno = curfolder + '/ManualAnno/vocalization_annotations.txt'\n",
    "\n",
    "\n",
    "with open(vocal_anno, 'w') as f:\n",
    "    for file in manualannofiles:\n",
    "        print('working on ' + file)\n",
    "        # get the filename as the last element\n",
    "        filename = file.split('\\\\')[-1]\n",
    "        # replace _ELAN_tiers.eaf with ''\n",
    "        filename = filename.replace('_ELAN_tiers.eaf', '')\n",
    "        # parse the file\n",
    "        annotations = parse_eaf_file(file, 'vocalization')\n",
    "        # write the annotations\n",
    "        for annotation in annotations:\n",
    "            f.write(f\"{annotation['start_time']}\\t{annotation['end_time']}\\t{annotation['annotation_value']}\\t{filename}\\n\")\n",
    "\n"
   ]
  },
  {
   "cell_type": "markdown",
   "metadata": {},
   "source": [
    "## Merge"
   ]
  },
  {
   "cell_type": "code",
   "execution_count": null,
   "metadata": {},
   "outputs": [],
   "source": [
    "voc_anno = curfolder + '\\\\ManualAnno\\\\vocalization_annotations.txt'\n",
    "\n",
    "for file in mergedfiles:\n",
    "    print('working on ' + file)\n",
    "\n",
    "    # get trialid\n",
    "    trialid = file.split('\\\\')[-1].split('.')[0]\n",
    "    # replace merged_ with ''\n",
    "    trialid = trialid.replace('merged_', '')\n",
    "    \n",
    "    # find in annofiles the one with the same trialid\n",
    "    try:\n",
    "        annofile = [x for x in annofiles if trialid in x][0]\n",
    "    except IndexError:\n",
    "        print('IndexError: ' + trialid + 'not found')\n",
    "        continue\n",
    "\n",
    "    # load the merged file\n",
    "    merged = pd.read_csv(file)\n",
    "    # load the annotation file\n",
    "    anno = pd.read_csv(annofile)\n",
    "    # rename Time to time\n",
    "    anno.rename(columns={'Time': 'time'}, inplace=True)\n",
    "\n",
    "    ### voc_ano\n",
    "    voc_df = pd.read_csv(voc_anno, sep='\\t', header=None)\n",
    "\n",
    "    # get the annotations for the trialid\n",
    "    voc_anno_trial = voc_df[voc_df[3] == trialid]\n",
    "\n",
    "    if voc_anno_trial.empty:\n",
    "        print('no vocalization annotations for ' + trialid)\n",
    "    else:\n",
    "        # create a new column for vocalization\n",
    "        merged['vocalization'] = 0\n",
    "        # get the start and end times\n",
    "        for index, row in voc_anno_trial.iterrows():\n",
    "            start = row[0]\n",
    "            end = row[1]\n",
    "            merged.loc[(merged['time'] >= start) & (merged['time'] <= end), 'vocalization'] = row[2]\n",
    "\n",
    "    # merge the two dataframes\n",
    "    merged_anno = pd.merge(merged, anno, on=['time', 'TrialID'], how='outer')\n",
    "\n",
    "    # interpolate missing values of anno columns\n",
    "    colstoint = anno.columns\n",
    "    colstoint = [x for x in colstoint if 'time' not in x]\n",
    "    colstoint = [x for x in colstoint if 'TrialID' not in x]\n",
    "\n",
    "    for col in colstoint:\n",
    "        # fill in missing values\n",
    "        merged_anno[col] = merged_anno[col].fillna(method='ffill')\n",
    "\n",
    "    # get rid of missing values in COPc\n",
    "    merged_anno = merged_anno[~np.isnan(merged_anno['COPc'])]\n",
    "\n",
    "    # write to csv \n",
    "    merged_anno.to_csv(TSmerged + '/merged_anno_' + trialid + '.csv', index=False)\n"
   ]
  }
 ],
 "metadata": {
  "kernelspec": {
   "display_name": "TSPROCESS",
   "language": "python",
   "name": "python3"
  },
  "language_info": {
   "codemirror_mode": {
    "name": "ipython",
    "version": 3
   },
   "file_extension": ".py",
   "mimetype": "text/x-python",
   "name": "python",
   "nbconvert_exporter": "python",
   "pygments_lexer": "ipython3",
   "version": "3.12.2"
  }
 },
 "nbformat": 4,
 "nbformat_minor": 2
}
