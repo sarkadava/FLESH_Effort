{
 "cells": [
  {
   "cell_type": "markdown",
   "metadata": {},
   "source": [
    "# Movement annotation III: Preparing data for classification\n",
    "\n",
    "Now that we trained a well-performing classifier, we will use it to predict the movement/nomovement on our timeseries data. We will chunk the timeseries into 50ms windows with a step of 25 ms. We opt for the step because we want our classifier to be rather accurate about when the movement starts/stops."
   ]
  },
  {
   "cell_type": "code",
   "execution_count": 1,
   "metadata": {},
   "outputs": [
    {
     "name": "stdout",
     "output_type": "stream",
     "text": [
      "['e:\\\\FLESH_ContinuousBodilyEffort\\\\04_TS_movementAnnotation/TS_annotated\\\\merged_anno_0_1_10_p1.csv', 'e:\\\\FLESH_ContinuousBodilyEffort\\\\04_TS_movementAnnotation/TS_annotated\\\\merged_anno_0_1_18_p0.csv', 'e:\\\\FLESH_ContinuousBodilyEffort\\\\04_TS_movementAnnotation/TS_annotated\\\\merged_anno_0_1_2_p0.csv', 'e:\\\\FLESH_ContinuousBodilyEffort\\\\04_TS_movementAnnotation/TS_annotated\\\\merged_anno_0_1_8_p0.csv', 'e:\\\\FLESH_ContinuousBodilyEffort\\\\04_TS_movementAnnotation/TS_annotated\\\\merged_anno_0_1_9_p1.csv', 'e:\\\\FLESH_ContinuousBodilyEffort\\\\04_TS_movementAnnotation/TS_annotated\\\\merged_anno_0_2_111_p1.csv', 'e:\\\\FLESH_ContinuousBodilyEffort\\\\04_TS_movementAnnotation/TS_annotated\\\\merged_anno_0_2_112_p1.csv', 'e:\\\\FLESH_ContinuousBodilyEffort\\\\04_TS_movementAnnotation/TS_annotated\\\\merged_anno_0_1_0_p0.csv', 'e:\\\\FLESH_ContinuousBodilyEffort\\\\04_TS_movementAnnotation/TS_annotated\\\\merged_anno_0_1_3_p0.csv', 'e:\\\\FLESH_ContinuousBodilyEffort\\\\04_TS_movementAnnotation/TS_annotated\\\\merged_anno_0_1_4_p0.csv', 'e:\\\\FLESH_ContinuousBodilyEffort\\\\04_TS_movementAnnotation/TS_annotated\\\\merged_anno_0_1_5_p0.csv', 'e:\\\\FLESH_ContinuousBodilyEffort\\\\04_TS_movementAnnotation/TS_annotated\\\\merged_anno_0_1_6_p0.csv', 'e:\\\\FLESH_ContinuousBodilyEffort\\\\04_TS_movementAnnotation/TS_annotated\\\\merged_anno_0_1_7_p0.csv', 'e:\\\\FLESH_ContinuousBodilyEffort\\\\04_TS_movementAnnotation/TS_annotated\\\\merged_anno_0_1_11_p1.csv', 'e:\\\\FLESH_ContinuousBodilyEffort\\\\04_TS_movementAnnotation/TS_annotated\\\\merged_anno_0_1_12_p1.csv', 'e:\\\\FLESH_ContinuousBodilyEffort\\\\04_TS_movementAnnotation/TS_annotated\\\\merged_anno_0_1_13_p1.csv', 'e:\\\\FLESH_ContinuousBodilyEffort\\\\04_TS_movementAnnotation/TS_annotated\\\\merged_anno_0_1_14_p1.csv', 'e:\\\\FLESH_ContinuousBodilyEffort\\\\04_TS_movementAnnotation/TS_annotated\\\\merged_anno_0_1_15_p1.csv', 'e:\\\\FLESH_ContinuousBodilyEffort\\\\04_TS_movementAnnotation/TS_annotated\\\\merged_anno_0_1_16_p1.csv', 'e:\\\\FLESH_ContinuousBodilyEffort\\\\04_TS_movementAnnotation/TS_annotated\\\\merged_anno_0_1_17_p1.csv', 'e:\\\\FLESH_ContinuousBodilyEffort\\\\04_TS_movementAnnotation/TS_annotated\\\\merged_anno_0_1_19_p0.csv', 'e:\\\\FLESH_ContinuousBodilyEffort\\\\04_TS_movementAnnotation/TS_annotated\\\\merged_anno_0_1_20_p0.csv', 'e:\\\\FLESH_ContinuousBodilyEffort\\\\04_TS_movementAnnotation/TS_annotated\\\\merged_anno_0_1_21_p0.csv', 'e:\\\\FLESH_ContinuousBodilyEffort\\\\04_TS_movementAnnotation/TS_annotated\\\\merged_anno_0_1_22_p0.csv', 'e:\\\\FLESH_ContinuousBodilyEffort\\\\04_TS_movementAnnotation/TS_annotated\\\\merged_anno_0_1_23_p0.csv', 'e:\\\\FLESH_ContinuousBodilyEffort\\\\04_TS_movementAnnotation/TS_annotated\\\\merged_anno_0_1_24_p0.csv', 'e:\\\\FLESH_ContinuousBodilyEffort\\\\04_TS_movementAnnotation/TS_annotated\\\\merged_anno_0_1_25_p0.csv', 'e:\\\\FLESH_ContinuousBodilyEffort\\\\04_TS_movementAnnotation/TS_annotated\\\\merged_anno_0_1_26_p0.csv', 'e:\\\\FLESH_ContinuousBodilyEffort\\\\04_TS_movementAnnotation/TS_annotated\\\\merged_anno_0_1_27_p1.csv', 'e:\\\\FLESH_ContinuousBodilyEffort\\\\04_TS_movementAnnotation/TS_annotated\\\\merged_anno_0_1_28_p1.csv', 'e:\\\\FLESH_ContinuousBodilyEffort\\\\04_TS_movementAnnotation/TS_annotated\\\\merged_anno_0_1_29_p1.csv', 'e:\\\\FLESH_ContinuousBodilyEffort\\\\04_TS_movementAnnotation/TS_annotated\\\\merged_anno_0_1_30_p1.csv', 'e:\\\\FLESH_ContinuousBodilyEffort\\\\04_TS_movementAnnotation/TS_annotated\\\\merged_anno_0_1_31_p1.csv', 'e:\\\\FLESH_ContinuousBodilyEffort\\\\04_TS_movementAnnotation/TS_annotated\\\\merged_anno_0_1_32_p1.csv', 'e:\\\\FLESH_ContinuousBodilyEffort\\\\04_TS_movementAnnotation/TS_annotated\\\\merged_anno_0_1_33_p1.csv', 'e:\\\\FLESH_ContinuousBodilyEffort\\\\04_TS_movementAnnotation/TS_annotated\\\\merged_anno_0_1_35_p1.csv', 'e:\\\\FLESH_ContinuousBodilyEffort\\\\04_TS_movementAnnotation/TS_annotated\\\\merged_anno_0_1_36_p0.csv', 'e:\\\\FLESH_ContinuousBodilyEffort\\\\04_TS_movementAnnotation/TS_annotated\\\\merged_anno_0_1_37_p0.csv', 'e:\\\\FLESH_ContinuousBodilyEffort\\\\04_TS_movementAnnotation/TS_annotated\\\\merged_anno_0_1_38_p0.csv', 'e:\\\\FLESH_ContinuousBodilyEffort\\\\04_TS_movementAnnotation/TS_annotated\\\\merged_anno_0_1_39_p0.csv', 'e:\\\\FLESH_ContinuousBodilyEffort\\\\04_TS_movementAnnotation/TS_annotated\\\\merged_anno_0_1_40_p0.csv', 'e:\\\\FLESH_ContinuousBodilyEffort\\\\04_TS_movementAnnotation/TS_annotated\\\\merged_anno_0_1_41_p0.csv', 'e:\\\\FLESH_ContinuousBodilyEffort\\\\04_TS_movementAnnotation/TS_annotated\\\\merged_anno_0_1_42_p0.csv', 'e:\\\\FLESH_ContinuousBodilyEffort\\\\04_TS_movementAnnotation/TS_annotated\\\\merged_anno_0_1_43_p0.csv', 'e:\\\\FLESH_ContinuousBodilyEffort\\\\04_TS_movementAnnotation/TS_annotated\\\\merged_anno_0_1_44_p0.csv', 'e:\\\\FLESH_ContinuousBodilyEffort\\\\04_TS_movementAnnotation/TS_annotated\\\\merged_anno_0_1_45_p1.csv', 'e:\\\\FLESH_ContinuousBodilyEffort\\\\04_TS_movementAnnotation/TS_annotated\\\\merged_anno_0_1_46_p1.csv', 'e:\\\\FLESH_ContinuousBodilyEffort\\\\04_TS_movementAnnotation/TS_annotated\\\\merged_anno_0_1_47_p1.csv', 'e:\\\\FLESH_ContinuousBodilyEffort\\\\04_TS_movementAnnotation/TS_annotated\\\\merged_anno_0_1_48_p1.csv', 'e:\\\\FLESH_ContinuousBodilyEffort\\\\04_TS_movementAnnotation/TS_annotated\\\\merged_anno_0_1_49_p1.csv', 'e:\\\\FLESH_ContinuousBodilyEffort\\\\04_TS_movementAnnotation/TS_annotated\\\\merged_anno_0_1_50_p1.csv', 'e:\\\\FLESH_ContinuousBodilyEffort\\\\04_TS_movementAnnotation/TS_annotated\\\\merged_anno_0_1_51_p1.csv', 'e:\\\\FLESH_ContinuousBodilyEffort\\\\04_TS_movementAnnotation/TS_annotated\\\\merged_anno_0_1_52_p1.csv', 'e:\\\\FLESH_ContinuousBodilyEffort\\\\04_TS_movementAnnotation/TS_annotated\\\\merged_anno_0_1_53_p1.csv', 'e:\\\\FLESH_ContinuousBodilyEffort\\\\04_TS_movementAnnotation/TS_annotated\\\\merged_anno_0_2_0_p0.csv', 'e:\\\\FLESH_ContinuousBodilyEffort\\\\04_TS_movementAnnotation/TS_annotated\\\\merged_anno_0_2_1_p0.csv', 'e:\\\\FLESH_ContinuousBodilyEffort\\\\04_TS_movementAnnotation/TS_annotated\\\\merged_anno_0_2_2_p0.csv', 'e:\\\\FLESH_ContinuousBodilyEffort\\\\04_TS_movementAnnotation/TS_annotated\\\\merged_anno_0_2_3_p0.csv', 'e:\\\\FLESH_ContinuousBodilyEffort\\\\04_TS_movementAnnotation/TS_annotated\\\\merged_anno_0_2_4_p0.csv', 'e:\\\\FLESH_ContinuousBodilyEffort\\\\04_TS_movementAnnotation/TS_annotated\\\\merged_anno_0_2_5_p0.csv', 'e:\\\\FLESH_ContinuousBodilyEffort\\\\04_TS_movementAnnotation/TS_annotated\\\\merged_anno_0_2_6_p0.csv', 'e:\\\\FLESH_ContinuousBodilyEffort\\\\04_TS_movementAnnotation/TS_annotated\\\\merged_anno_0_2_7_p0.csv', 'e:\\\\FLESH_ContinuousBodilyEffort\\\\04_TS_movementAnnotation/TS_annotated\\\\merged_anno_0_2_8_p0.csv', 'e:\\\\FLESH_ContinuousBodilyEffort\\\\04_TS_movementAnnotation/TS_annotated\\\\merged_anno_0_2_9_p0.csv', 'e:\\\\FLESH_ContinuousBodilyEffort\\\\04_TS_movementAnnotation/TS_annotated\\\\merged_anno_0_2_10_p0.csv', 'e:\\\\FLESH_ContinuousBodilyEffort\\\\04_TS_movementAnnotation/TS_annotated\\\\merged_anno_0_2_11_p0.csv', 'e:\\\\FLESH_ContinuousBodilyEffort\\\\04_TS_movementAnnotation/TS_annotated\\\\merged_anno_0_2_12_p0.csv', 'e:\\\\FLESH_ContinuousBodilyEffort\\\\04_TS_movementAnnotation/TS_annotated\\\\merged_anno_0_2_13_p0.csv', 'e:\\\\FLESH_ContinuousBodilyEffort\\\\04_TS_movementAnnotation/TS_annotated\\\\merged_anno_0_2_14_p0.csv', 'e:\\\\FLESH_ContinuousBodilyEffort\\\\04_TS_movementAnnotation/TS_annotated\\\\merged_anno_0_2_15_p0.csv', 'e:\\\\FLESH_ContinuousBodilyEffort\\\\04_TS_movementAnnotation/TS_annotated\\\\merged_anno_0_2_16_p0.csv', 'e:\\\\FLESH_ContinuousBodilyEffort\\\\04_TS_movementAnnotation/TS_annotated\\\\merged_anno_0_2_17_p0.csv', 'e:\\\\FLESH_ContinuousBodilyEffort\\\\04_TS_movementAnnotation/TS_annotated\\\\merged_anno_0_2_18_p0.csv', 'e:\\\\FLESH_ContinuousBodilyEffort\\\\04_TS_movementAnnotation/TS_annotated\\\\merged_anno_0_2_19_p1.csv', 'e:\\\\FLESH_ContinuousBodilyEffort\\\\04_TS_movementAnnotation/TS_annotated\\\\merged_anno_0_2_20_p1.csv', 'e:\\\\FLESH_ContinuousBodilyEffort\\\\04_TS_movementAnnotation/TS_annotated\\\\merged_anno_0_2_21_p1.csv', 'e:\\\\FLESH_ContinuousBodilyEffort\\\\04_TS_movementAnnotation/TS_annotated\\\\merged_anno_0_2_22_p1.csv', 'e:\\\\FLESH_ContinuousBodilyEffort\\\\04_TS_movementAnnotation/TS_annotated\\\\merged_anno_0_2_23_p1.csv', 'e:\\\\FLESH_ContinuousBodilyEffort\\\\04_TS_movementAnnotation/TS_annotated\\\\merged_anno_0_2_24_p1.csv', 'e:\\\\FLESH_ContinuousBodilyEffort\\\\04_TS_movementAnnotation/TS_annotated\\\\merged_anno_0_2_25_p1.csv', 'e:\\\\FLESH_ContinuousBodilyEffort\\\\04_TS_movementAnnotation/TS_annotated\\\\merged_anno_0_2_26_p1.csv', 'e:\\\\FLESH_ContinuousBodilyEffort\\\\04_TS_movementAnnotation/TS_annotated\\\\merged_anno_0_2_27_p1.csv', 'e:\\\\FLESH_ContinuousBodilyEffort\\\\04_TS_movementAnnotation/TS_annotated\\\\merged_anno_0_2_28_p1.csv', 'e:\\\\FLESH_ContinuousBodilyEffort\\\\04_TS_movementAnnotation/TS_annotated\\\\merged_anno_0_2_29_p1.csv', 'e:\\\\FLESH_ContinuousBodilyEffort\\\\04_TS_movementAnnotation/TS_annotated\\\\merged_anno_0_2_30_p1.csv', 'e:\\\\FLESH_ContinuousBodilyEffort\\\\04_TS_movementAnnotation/TS_annotated\\\\merged_anno_0_2_31_p1.csv', 'e:\\\\FLESH_ContinuousBodilyEffort\\\\04_TS_movementAnnotation/TS_annotated\\\\merged_anno_0_2_32_p1.csv', 'e:\\\\FLESH_ContinuousBodilyEffort\\\\04_TS_movementAnnotation/TS_annotated\\\\merged_anno_0_2_33_p1.csv', 'e:\\\\FLESH_ContinuousBodilyEffort\\\\04_TS_movementAnnotation/TS_annotated\\\\merged_anno_0_2_34_p1.csv', 'e:\\\\FLESH_ContinuousBodilyEffort\\\\04_TS_movementAnnotation/TS_annotated\\\\merged_anno_0_2_35_p1.csv', 'e:\\\\FLESH_ContinuousBodilyEffort\\\\04_TS_movementAnnotation/TS_annotated\\\\merged_anno_0_2_36_p1.csv', 'e:\\\\FLESH_ContinuousBodilyEffort\\\\04_TS_movementAnnotation/TS_annotated\\\\merged_anno_0_2_37_p1.csv', 'e:\\\\FLESH_ContinuousBodilyEffort\\\\04_TS_movementAnnotation/TS_annotated\\\\merged_anno_0_2_38_p0.csv', 'e:\\\\FLESH_ContinuousBodilyEffort\\\\04_TS_movementAnnotation/TS_annotated\\\\merged_anno_0_2_39_p0.csv', 'e:\\\\FLESH_ContinuousBodilyEffort\\\\04_TS_movementAnnotation/TS_annotated\\\\merged_anno_0_2_40_p0.csv', 'e:\\\\FLESH_ContinuousBodilyEffort\\\\04_TS_movementAnnotation/TS_annotated\\\\merged_anno_0_2_41_p0.csv', 'e:\\\\FLESH_ContinuousBodilyEffort\\\\04_TS_movementAnnotation/TS_annotated\\\\merged_anno_0_2_43_p0.csv', 'e:\\\\FLESH_ContinuousBodilyEffort\\\\04_TS_movementAnnotation/TS_annotated\\\\merged_anno_0_2_44_p0.csv', 'e:\\\\FLESH_ContinuousBodilyEffort\\\\04_TS_movementAnnotation/TS_annotated\\\\merged_anno_0_2_45_p0.csv', 'e:\\\\FLESH_ContinuousBodilyEffort\\\\04_TS_movementAnnotation/TS_annotated\\\\merged_anno_0_2_46_p0.csv', 'e:\\\\FLESH_ContinuousBodilyEffort\\\\04_TS_movementAnnotation/TS_annotated\\\\merged_anno_0_2_47_p0.csv', 'e:\\\\FLESH_ContinuousBodilyEffort\\\\04_TS_movementAnnotation/TS_annotated\\\\merged_anno_0_2_48_p0.csv', 'e:\\\\FLESH_ContinuousBodilyEffort\\\\04_TS_movementAnnotation/TS_annotated\\\\merged_anno_0_2_49_p0.csv', 'e:\\\\FLESH_ContinuousBodilyEffort\\\\04_TS_movementAnnotation/TS_annotated\\\\merged_anno_0_2_50_p0.csv', 'e:\\\\FLESH_ContinuousBodilyEffort\\\\04_TS_movementAnnotation/TS_annotated\\\\merged_anno_0_2_51_p0.csv', 'e:\\\\FLESH_ContinuousBodilyEffort\\\\04_TS_movementAnnotation/TS_annotated\\\\merged_anno_0_2_52_p0.csv', 'e:\\\\FLESH_ContinuousBodilyEffort\\\\04_TS_movementAnnotation/TS_annotated\\\\merged_anno_0_2_53_p1.csv', 'e:\\\\FLESH_ContinuousBodilyEffort\\\\04_TS_movementAnnotation/TS_annotated\\\\merged_anno_0_2_54_p1.csv', 'e:\\\\FLESH_ContinuousBodilyEffort\\\\04_TS_movementAnnotation/TS_annotated\\\\merged_anno_0_2_55_p1.csv', 'e:\\\\FLESH_ContinuousBodilyEffort\\\\04_TS_movementAnnotation/TS_annotated\\\\merged_anno_0_2_56_p1.csv', 'e:\\\\FLESH_ContinuousBodilyEffort\\\\04_TS_movementAnnotation/TS_annotated\\\\merged_anno_0_2_57_p1.csv', 'e:\\\\FLESH_ContinuousBodilyEffort\\\\04_TS_movementAnnotation/TS_annotated\\\\merged_anno_0_2_58_p1.csv', 'e:\\\\FLESH_ContinuousBodilyEffort\\\\04_TS_movementAnnotation/TS_annotated\\\\merged_anno_0_2_59_p1.csv', 'e:\\\\FLESH_ContinuousBodilyEffort\\\\04_TS_movementAnnotation/TS_annotated\\\\merged_anno_0_2_60_p1.csv', 'e:\\\\FLESH_ContinuousBodilyEffort\\\\04_TS_movementAnnotation/TS_annotated\\\\merged_anno_0_2_61_p1.csv', 'e:\\\\FLESH_ContinuousBodilyEffort\\\\04_TS_movementAnnotation/TS_annotated\\\\merged_anno_0_2_62_p1.csv', 'e:\\\\FLESH_ContinuousBodilyEffort\\\\04_TS_movementAnnotation/TS_annotated\\\\merged_anno_0_2_63_p1.csv', 'e:\\\\FLESH_ContinuousBodilyEffort\\\\04_TS_movementAnnotation/TS_annotated\\\\merged_anno_0_2_64_p1.csv', 'e:\\\\FLESH_ContinuousBodilyEffort\\\\04_TS_movementAnnotation/TS_annotated\\\\merged_anno_0_2_65_p1.csv', 'e:\\\\FLESH_ContinuousBodilyEffort\\\\04_TS_movementAnnotation/TS_annotated\\\\merged_anno_0_2_67_p0.csv', 'e:\\\\FLESH_ContinuousBodilyEffort\\\\04_TS_movementAnnotation/TS_annotated\\\\merged_anno_0_2_68_p0.csv', 'e:\\\\FLESH_ContinuousBodilyEffort\\\\04_TS_movementAnnotation/TS_annotated\\\\merged_anno_0_2_69_p0.csv', 'e:\\\\FLESH_ContinuousBodilyEffort\\\\04_TS_movementAnnotation/TS_annotated\\\\merged_anno_0_2_70_p0.csv', 'e:\\\\FLESH_ContinuousBodilyEffort\\\\04_TS_movementAnnotation/TS_annotated\\\\merged_anno_0_2_71_p0.csv', 'e:\\\\FLESH_ContinuousBodilyEffort\\\\04_TS_movementAnnotation/TS_annotated\\\\merged_anno_0_2_72_p0.csv', 'e:\\\\FLESH_ContinuousBodilyEffort\\\\04_TS_movementAnnotation/TS_annotated\\\\merged_anno_0_2_73_p0.csv', 'e:\\\\FLESH_ContinuousBodilyEffort\\\\04_TS_movementAnnotation/TS_annotated\\\\merged_anno_0_2_74_p0.csv', 'e:\\\\FLESH_ContinuousBodilyEffort\\\\04_TS_movementAnnotation/TS_annotated\\\\merged_anno_0_2_75_p0.csv', 'e:\\\\FLESH_ContinuousBodilyEffort\\\\04_TS_movementAnnotation/TS_annotated\\\\merged_anno_0_2_76_p0.csv', 'e:\\\\FLESH_ContinuousBodilyEffort\\\\04_TS_movementAnnotation/TS_annotated\\\\merged_anno_0_2_77_p0.csv', 'e:\\\\FLESH_ContinuousBodilyEffort\\\\04_TS_movementAnnotation/TS_annotated\\\\merged_anno_0_2_78_p0.csv', 'e:\\\\FLESH_ContinuousBodilyEffort\\\\04_TS_movementAnnotation/TS_annotated\\\\merged_anno_0_2_79_p0.csv', 'e:\\\\FLESH_ContinuousBodilyEffort\\\\04_TS_movementAnnotation/TS_annotated\\\\merged_anno_0_2_80_p0.csv', 'e:\\\\FLESH_ContinuousBodilyEffort\\\\04_TS_movementAnnotation/TS_annotated\\\\merged_anno_0_2_81_p0.csv', 'e:\\\\FLESH_ContinuousBodilyEffort\\\\04_TS_movementAnnotation/TS_annotated\\\\merged_anno_0_2_82_p0.csv', 'e:\\\\FLESH_ContinuousBodilyEffort\\\\04_TS_movementAnnotation/TS_annotated\\\\merged_anno_0_2_83_p0.csv', 'e:\\\\FLESH_ContinuousBodilyEffort\\\\04_TS_movementAnnotation/TS_annotated\\\\merged_anno_0_2_84_p0.csv', 'e:\\\\FLESH_ContinuousBodilyEffort\\\\04_TS_movementAnnotation/TS_annotated\\\\merged_anno_0_2_85_p0.csv', 'e:\\\\FLESH_ContinuousBodilyEffort\\\\04_TS_movementAnnotation/TS_annotated\\\\merged_anno_0_2_86_p0.csv', 'e:\\\\FLESH_ContinuousBodilyEffort\\\\04_TS_movementAnnotation/TS_annotated\\\\merged_anno_0_2_87_p0.csv', 'e:\\\\FLESH_ContinuousBodilyEffort\\\\04_TS_movementAnnotation/TS_annotated\\\\merged_anno_0_2_88_p0.csv', 'e:\\\\FLESH_ContinuousBodilyEffort\\\\04_TS_movementAnnotation/TS_annotated\\\\merged_anno_0_2_89_p0.csv', 'e:\\\\FLESH_ContinuousBodilyEffort\\\\04_TS_movementAnnotation/TS_annotated\\\\merged_anno_0_2_90_p0.csv', 'e:\\\\FLESH_ContinuousBodilyEffort\\\\04_TS_movementAnnotation/TS_annotated\\\\merged_anno_0_2_91_p0.csv', 'e:\\\\FLESH_ContinuousBodilyEffort\\\\04_TS_movementAnnotation/TS_annotated\\\\merged_anno_0_2_92_p1.csv', 'e:\\\\FLESH_ContinuousBodilyEffort\\\\04_TS_movementAnnotation/TS_annotated\\\\merged_anno_0_2_93_p1.csv', 'e:\\\\FLESH_ContinuousBodilyEffort\\\\04_TS_movementAnnotation/TS_annotated\\\\merged_anno_0_2_94_p1.csv', 'e:\\\\FLESH_ContinuousBodilyEffort\\\\04_TS_movementAnnotation/TS_annotated\\\\merged_anno_0_2_95_p1.csv', 'e:\\\\FLESH_ContinuousBodilyEffort\\\\04_TS_movementAnnotation/TS_annotated\\\\merged_anno_0_2_96_p1.csv', 'e:\\\\FLESH_ContinuousBodilyEffort\\\\04_TS_movementAnnotation/TS_annotated\\\\merged_anno_0_2_97_p1.csv', 'e:\\\\FLESH_ContinuousBodilyEffort\\\\04_TS_movementAnnotation/TS_annotated\\\\merged_anno_0_2_98_p1.csv', 'e:\\\\FLESH_ContinuousBodilyEffort\\\\04_TS_movementAnnotation/TS_annotated\\\\merged_anno_0_2_99_p1.csv', 'e:\\\\FLESH_ContinuousBodilyEffort\\\\04_TS_movementAnnotation/TS_annotated\\\\merged_anno_0_2_100_p1.csv', 'e:\\\\FLESH_ContinuousBodilyEffort\\\\04_TS_movementAnnotation/TS_annotated\\\\merged_anno_0_2_101_p1.csv', 'e:\\\\FLESH_ContinuousBodilyEffort\\\\04_TS_movementAnnotation/TS_annotated\\\\merged_anno_0_2_102_p1.csv', 'e:\\\\FLESH_ContinuousBodilyEffort\\\\04_TS_movementAnnotation/TS_annotated\\\\merged_anno_0_2_103_p1.csv', 'e:\\\\FLESH_ContinuousBodilyEffort\\\\04_TS_movementAnnotation/TS_annotated\\\\merged_anno_0_2_104_p1.csv', 'e:\\\\FLESH_ContinuousBodilyEffort\\\\04_TS_movementAnnotation/TS_annotated\\\\merged_anno_0_2_105_p1.csv', 'e:\\\\FLESH_ContinuousBodilyEffort\\\\04_TS_movementAnnotation/TS_annotated\\\\merged_anno_0_2_106_p1.csv', 'e:\\\\FLESH_ContinuousBodilyEffort\\\\04_TS_movementAnnotation/TS_annotated\\\\merged_anno_0_2_107_p1.csv', 'e:\\\\FLESH_ContinuousBodilyEffort\\\\04_TS_movementAnnotation/TS_annotated\\\\merged_anno_0_2_108_p1.csv', 'e:\\\\FLESH_ContinuousBodilyEffort\\\\04_TS_movementAnnotation/TS_annotated\\\\merged_anno_0_2_109_p1.csv', 'e:\\\\FLESH_ContinuousBodilyEffort\\\\04_TS_movementAnnotation/TS_annotated\\\\merged_anno_0_2_110_p1.csv', 'e:\\\\FLESH_ContinuousBodilyEffort\\\\04_TS_movementAnnotation/TS_annotated\\\\merged_anno_0_2_113_p1.csv', 'e:\\\\FLESH_ContinuousBodilyEffort\\\\04_TS_movementAnnotation/TS_annotated\\\\merged_anno_0_2_42_p0.csv']\n"
     ]
    }
   ],
   "source": [
    "import os\n",
    "import glob\n",
    "import pandas as pd\n",
    "import numpy as np\n",
    "\n",
    "curfolder = os.getcwd()\n",
    "\n",
    "cleanedfolder = os.path.join(curfolder + '/TS_annotated/')\n",
    "samplingfiles = glob.glob(cleanedfolder + '*.csv')\n",
    "print(samplingfiles)\n",
    "\n",
    "# here we stored the new data\n",
    "chunked_folder = os.path.join(curfolder + '/TS_forClassifying/')\n"
   ]
  },
  {
   "cell_type": "code",
   "execution_count": 7,
   "metadata": {},
   "outputs": [],
   "source": [
    "# Function to transform dictionary into DataFrame\n",
    "def dict_to_df(data):\n",
    "    # Flatten the dictionary into a format with keys like 'feature_mean', 'feature_std', etc.\n",
    "    flat_data = {}\n",
    "    for feature, stats in data.items():\n",
    "        for stat, value in stats.items():\n",
    "            flat_data[f'{feature}_{stat}'] = value\n",
    "    # Convert the flat dictionary to a DataFrame with a single row\n",
    "    df = pd.DataFrame(flat_data, index=[0])\n",
    "    return df\n",
    "\n",
    "# Function to summarize every 50 rows with overlapping intervals, sliding by 12 rows\n",
    "def summarize_consecutive_rows(df, trialid, num_cols, summary_interval=50, slide_step=12):\n",
    "    summaries = []\n",
    "    summary_df = pd.DataFrame()\n",
    "    counter = 1\n",
    "\n",
    "    for start_idx in range(0, len(df), slide_step):\n",
    "        # Select a slice of 50 rows (or fewer for the last chunk)\n",
    "        selected = df.iloc[start_idx:start_idx + summary_interval]\n",
    "        \n",
    "        # Stop if there are no more rows to process\n",
    "        if selected.empty:\n",
    "            break\n",
    "            \n",
    "        summary_stats = {}\n",
    "\n",
    "        # Calculate statistics for each numerical column\n",
    "        for col in num_cols:\n",
    "            stats = selected[col].describe().to_dict()\n",
    "            summary_stats[col] = stats\n",
    "\n",
    "        # Convert to DataFrame row format\n",
    "        summary_row = dict_to_df(summary_stats)\n",
    "\n",
    "        # Add start and end time for the chunk\n",
    "        summary_row['start_time'] = selected['time'].iloc[0]\n",
    "        summary_row['end_time'] = selected['time'].iloc[-1]\n",
    "\n",
    "        # Add chunk number\n",
    "        summary_row['eventid'] = f\"{trialid}_chunk_{counter}\"\n",
    "\n",
    "        # Get rid of all columns that contain 'count' or '%' in the name\n",
    "        summary_row = summary_row.loc[:, ~summary_row.columns.str.contains('count|%', regex=True)]\n",
    "\n",
    "        # Append to the main DataFrame\n",
    "        summary_df = pd.concat([summary_df, summary_row], ignore_index=True)\n",
    "\n",
    "        counter += 1\n",
    "\n",
    "    return summary_df"
   ]
  },
  {
   "cell_type": "code",
   "execution_count": 8,
   "metadata": {},
   "outputs": [
    {
     "name": "stdout",
     "output_type": "stream",
     "text": [
      "skipping e:\\FLESH_ContinuousBodilyEffort\\04_TS_movementAnnotation/TS_annotated\\merged_anno_0_1_10_p1.csv\n",
      "skipping e:\\FLESH_ContinuousBodilyEffort\\04_TS_movementAnnotation/TS_annotated\\merged_anno_0_1_18_p0.csv\n",
      "skipping e:\\FLESH_ContinuousBodilyEffort\\04_TS_movementAnnotation/TS_annotated\\merged_anno_0_1_9_p1.csv\n",
      "skipping e:\\FLESH_ContinuousBodilyEffort\\04_TS_movementAnnotation/TS_annotated\\merged_anno_0_1_0_p0.csv\n",
      "skipping e:\\FLESH_ContinuousBodilyEffort\\04_TS_movementAnnotation/TS_annotated\\merged_anno_0_1_19_p0.csv\n",
      "skipping e:\\FLESH_ContinuousBodilyEffort\\04_TS_movementAnnotation/TS_annotated\\merged_anno_0_1_27_p1.csv\n",
      "skipping e:\\FLESH_ContinuousBodilyEffort\\04_TS_movementAnnotation/TS_annotated\\merged_anno_0_1_28_p1.csv\n",
      "skipping e:\\FLESH_ContinuousBodilyEffort\\04_TS_movementAnnotation/TS_annotated\\merged_anno_0_1_36_p0.csv\n",
      "skipping e:\\FLESH_ContinuousBodilyEffort\\04_TS_movementAnnotation/TS_annotated\\merged_anno_0_1_37_p0.csv\n",
      "skipping e:\\FLESH_ContinuousBodilyEffort\\04_TS_movementAnnotation/TS_annotated\\merged_anno_0_1_45_p1.csv\n",
      "skipping e:\\FLESH_ContinuousBodilyEffort\\04_TS_movementAnnotation/TS_annotated\\merged_anno_0_1_46_p1.csv\n",
      "skipping e:\\FLESH_ContinuousBodilyEffort\\04_TS_movementAnnotation/TS_annotated\\merged_anno_0_2_0_p0.csv\n",
      "skipping e:\\FLESH_ContinuousBodilyEffort\\04_TS_movementAnnotation/TS_annotated\\merged_anno_0_2_1_p0.csv\n",
      "skipping e:\\FLESH_ContinuousBodilyEffort\\04_TS_movementAnnotation/TS_annotated\\merged_anno_0_2_19_p1.csv\n",
      "skipping e:\\FLESH_ContinuousBodilyEffort\\04_TS_movementAnnotation/TS_annotated\\merged_anno_0_2_20_p1.csv\n",
      "skipping e:\\FLESH_ContinuousBodilyEffort\\04_TS_movementAnnotation/TS_annotated\\merged_anno_0_2_21_p1.csv\n",
      "skipping e:\\FLESH_ContinuousBodilyEffort\\04_TS_movementAnnotation/TS_annotated\\merged_anno_0_2_22_p1.csv\n",
      "skipping e:\\FLESH_ContinuousBodilyEffort\\04_TS_movementAnnotation/TS_annotated\\merged_anno_0_2_38_p0.csv\n",
      "skipping e:\\FLESH_ContinuousBodilyEffort\\04_TS_movementAnnotation/TS_annotated\\merged_anno_0_2_39_p0.csv\n",
      "skipping e:\\FLESH_ContinuousBodilyEffort\\04_TS_movementAnnotation/TS_annotated\\merged_anno_0_2_40_p0.csv\n",
      "skipping e:\\FLESH_ContinuousBodilyEffort\\04_TS_movementAnnotation/TS_annotated\\merged_anno_0_2_53_p1.csv\n",
      "skipping e:\\FLESH_ContinuousBodilyEffort\\04_TS_movementAnnotation/TS_annotated\\merged_anno_0_2_54_p1.csv\n",
      "skipping e:\\FLESH_ContinuousBodilyEffort\\04_TS_movementAnnotation/TS_annotated\\merged_anno_0_2_55_p1.csv\n",
      "skipping e:\\FLESH_ContinuousBodilyEffort\\04_TS_movementAnnotation/TS_annotated\\merged_anno_0_2_56_p1.csv\n",
      "skipping e:\\FLESH_ContinuousBodilyEffort\\04_TS_movementAnnotation/TS_annotated\\merged_anno_0_2_67_p0.csv\n",
      "skipping e:\\FLESH_ContinuousBodilyEffort\\04_TS_movementAnnotation/TS_annotated\\merged_anno_0_2_68_p0.csv\n",
      "skipping e:\\FLESH_ContinuousBodilyEffort\\04_TS_movementAnnotation/TS_annotated\\merged_anno_0_2_69_p0.csv\n",
      "skipping e:\\FLESH_ContinuousBodilyEffort\\04_TS_movementAnnotation/TS_annotated\\merged_anno_0_2_70_p0.csv\n",
      "skipping e:\\FLESH_ContinuousBodilyEffort\\04_TS_movementAnnotation/TS_annotated\\merged_anno_0_2_71_p0.csv\n",
      "skipping e:\\FLESH_ContinuousBodilyEffort\\04_TS_movementAnnotation/TS_annotated\\merged_anno_0_2_72_p0.csv\n",
      "skipping e:\\FLESH_ContinuousBodilyEffort\\04_TS_movementAnnotation/TS_annotated\\merged_anno_0_2_92_p1.csv\n",
      "skipping e:\\FLESH_ContinuousBodilyEffort\\04_TS_movementAnnotation/TS_annotated\\merged_anno_0_2_93_p1.csv\n",
      "skipping e:\\FLESH_ContinuousBodilyEffort\\04_TS_movementAnnotation/TS_annotated\\merged_anno_0_2_94_p1.csv\n",
      "skipping e:\\FLESH_ContinuousBodilyEffort\\04_TS_movementAnnotation/TS_annotated\\merged_anno_0_2_95_p1.csv\n",
      "skipping e:\\FLESH_ContinuousBodilyEffort\\04_TS_movementAnnotation/TS_annotated\\merged_anno_0_2_96_p1.csv\n",
      "skipping e:\\FLESH_ContinuousBodilyEffort\\04_TS_movementAnnotation/TS_annotated\\merged_anno_0_2_97_p1.csv\n",
      "All done, now we can proceed with annotation with our classifier\n"
     ]
    }
   ],
   "source": [
    "# Main DataFrame to store all summaries\n",
    "dataset_features = pd.DataFrame()\n",
    "\n",
    "for file in samplingfiles:\n",
    "    df = pd.read_csv(file)\n",
    "\n",
    "    # if the df doesn't have columns arms, upper_body, lower_body, head_mov, skip it\n",
    "    if 'arms' not in df.columns or 'upper_body' not in df.columns or 'lower_body' not in df.columns or 'head_mov' not in df.columns:\n",
    "        print('skipping ' + file)\n",
    "        continue\n",
    "    \n",
    "    trialid = file.split('\\\\')[-1].split('.')[0]\n",
    "\n",
    "    # Define numerical columns (excluding 'time' and 'change' if present)\n",
    "    num_cols = [col for col in df.select_dtypes(include=np.number).columns if col != 'change' and col != 'time']\n",
    "\n",
    "    # Summarize data in intervals of 50 rows, sliding by 12 rows\n",
    "    summary_df = summarize_consecutive_rows(df, trialid, num_cols, summary_interval=50, slide_step=12)\n",
    "\n",
    "    # Add trial ID to the DataFrame\n",
    "    summary_df['trialid'] = trialid\n",
    "\n",
    "    # Drop columns with all NA values\n",
    "    summary_df = summary_df.dropna(axis=1, how='all')\n",
    "\n",
    "    # Save as a CSV file\n",
    "    summary_df.to_csv(chunked_folder + trialid + '_chunked.csv', index=False)\n",
    "\n",
    "summary_df.head(15)\n",
    "print('All done, now we can proceed with annotation with our classifier')\n"
   ]
  }
 ],
 "metadata": {
  "kernelspec": {
   "display_name": "TSPROCESS",
   "language": "python",
   "name": "python3"
  },
  "language_info": {
   "codemirror_mode": {
    "name": "ipython",
    "version": 3
   },
   "file_extension": ".py",
   "mimetype": "text/x-python",
   "name": "python",
   "nbconvert_exporter": "python",
   "pygments_lexer": "ipython3",
   "version": "3.12.2"
  }
 },
 "nbformat": 4,
 "nbformat_minor": 2
}
