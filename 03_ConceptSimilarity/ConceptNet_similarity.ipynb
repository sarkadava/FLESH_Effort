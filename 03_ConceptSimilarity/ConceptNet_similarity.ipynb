{
 "cells": [
  {
   "cell_type": "markdown",
   "metadata": {},
   "source": [
    "# Using ConceptNet to get similarity between two concepts"
   ]
  },
  {
   "cell_type": "markdown",
   "metadata": {},
   "source": [
    "## Setting"
   ]
  },
  {
   "cell_type": "code",
   "execution_count": 26,
   "metadata": {},
   "outputs": [],
   "source": [
    "import requests\n",
    "import numpy as np\n",
    "import os\n",
    "import glob\n",
    "import pandas as pd\n",
    "\n",
    "curfolder = os.getcwd()\n",
    "answerfolder = curfolder + '/answer_data/'\n",
    "answerfiles = glob.glob(answerfolder + '*.csv')\n",
    "\n",
    "# load in one file\n",
    "df = pd.read_csv(answerfiles[0])\n",
    "# add a column exp and set values everywhere to 1 - tp keep track what part is it\n",
    "df['exp'] = 1\n",
    "df2 = pd.read_csv(answerfiles[1])\n",
    "df2['exp'] = 2\n",
    "\n",
    "# concept list\n",
    "df_concepts = pd.read_excel(answerfolder + '/conceptlist_info.xlsx')"
   ]
  },
  {
   "cell_type": "markdown",
   "metadata": {},
   "source": [
    "## Preparing dataframe"
   ]
  },
  {
   "cell_type": "code",
   "execution_count": 27,
   "metadata": {},
   "outputs": [],
   "source": [
    "\n",
    "# merge df and df 2\n",
    "df_all = pd.concat([df, df2], ignore_index=True)\n",
    "\n",
    "# keep only columns word and answer\n",
    "df = df_all[['word', 'answer', 'exp']]\n",
    "\n",
    "# in df_concepts, keep only English and Dutch\n",
    "df_concepts = df_concepts[['English', 'Dutch']]\n",
    "\n",
    "# rename Dutch to word\n",
    "df_concepts = df_concepts.rename(columns={'Dutch': 'word'})\n",
    "\n",
    "# merge df and df_concepts on word\n",
    "df = pd.merge(df, df_concepts, on='word', how='left')\n",
    "\n",
    "# show rows where English is NaN\n",
    "df[df['English'].isnull()]\n",
    "\n",
    "# add translations manually for each\n",
    "df.loc[df['word'] == 'bloem', 'English'] = 'flower'\n",
    "df.loc[df['word'] == 'dansen', 'English'] = 'to dance'\n",
    "df.loc[df['word'] == 'auto', 'English'] = 'car'\n",
    "df.loc[df['word'] == 'olifant', 'English'] = 'elephant'\n",
    "df.loc[df['word'] == 'comfortabel', 'English'] = 'comfortable'\n",
    "df.loc[df['word'] == 'bal', 'English'] = 'ball'\n",
    "df.loc[df['word'] == 'haasten', 'English'] = 'to hurry'\n",
    "df.loc[df['word'] == 'gek', 'English'] = 'crazy'\n",
    "df.loc[df['word'] == 'snijden', 'English'] = 'to cut'\n",
    "df.loc[df['word'] == 'koken', 'English'] = 'to cook'\n",
    "df.loc[df['word'] == 'juichen', 'English'] = 'to cheer'\n",
    "df.loc[df['word'] == 'zingen', 'English'] = 'to sing'\n",
    "df.loc[df['word'] == 'glimlach', 'English'] = 'smile'\n",
    "df.loc[df['word'] == 'klok', 'English'] = 'clock'\n",
    "df.loc[df['word'] == 'fiets', 'English'] = 'bicycle'\n",
    "df.loc[df['word'] == 'vliegtuig', 'English'] = 'airplane'\n",
    "df.loc[df['word'] == 'geheim', 'English'] = 'secret'\n",
    "df.loc[df['word'] == 'telefoon', 'English'] = 'telephone'\n",
    "df.loc[df['word'] == 'zwaaien', 'English'] = 'to wave'\n",
    "df.loc[df['word'] == 'sneeuw', 'English'] = 'snow'\n",
    "\n",
    "# in col English, replace 'to ' with ''\n",
    "df['English'] = df['English'].str.replace('to ', '')\n",
    "\n",
    "# make a list of English meanings\n",
    "meanings_en = list(df['English'])\n",
    "len(meanings_en)\n",
    "\n",
    "# make a list of Dutch meanings\n",
    "answers_nl = list(df['answer'])\n",
    "answers_nl\n",
    "len(answers_nl)\n",
    "\n",
    "# make a list of English answers\n",
    "answers_en = ['party', 'to cheer', 'tasty', 'to shoot', 'to breathe', 'zombie', 'bee', 'sea', 'dirty', 'tasty', 'car', 'to eat', 'to eat', 'to blow', 'hose', 'hose', 'to annoy', 'to make noise', 'to make noise', 'to run away', 'elephant', 'to cry', 'cold', 'outfit', 'silence', 'to ski', 'wrong', 'to play basketball', 'to search', 'disturbed', 'to run', 'to lick', 'to lift', 'lightning', 'to think', 'to jump', 'to fall', 'to write', 'to dance', 'shoulder height', 'horn', 'dirty', 'boring', 'to drink', 'strong', 'elderly', 'to mix', 'fish', 'fish', 'dirty', 'wrong', 'smart', 'to box', 'to box', 'dog', 'to catch', 'to cheer', 'to sing', 'pregnant', 'hair', 'to shower', 'pain', 'burnt', 'hot', 'I', 'to chew', 'bird', 'airplane', 'to fly', 'to think', 'to choose', 'to doubt', 'graffiti', 'fireworks', 'bomb', 'to smile', 'to laugh', 'smile', 'clock', 'to wonder', 'height', 'big', 'height', 'space', 'to misjudge', 'to wait', 'satisfied', 'happy', 'fish', 'to smell', 'wind', 'pain', 'to burn', 'hot', 'to cycle', 'to fly', 'airplane', 'bird', 'to crawl', 'to drink', 'waterfall', 'water', 'fire', 'top', 'good', 'to hear', 'to point', 'distance', 'there', 'to whisper', 'quiet', 'to be silent', 'telephone', 'to blow', 'to distribute', 'to give', 'cat', 'to laugh', 'tasty', 'to eat', 'yummy', 'to sleep', 'mountain', 'dirty', 'to vomit', 'to be disgusted', 'to greet', 'hello', 'goodbye', 'to smell', 'nose', 'odor', 'to fly', 'fireworks', 'to blow', 'to cut', 'pain', 'hot', 'to slurp', 'to throw', 'to fall', 'to fall', 'whistle', 'heartbeat', 'mouse', 'to hit', 'to catch', 'to grab', 'to throw', 'to fall', 'to shoot', 'circus', 'trunk', 'to fall', 'to fight', 'pain', 'to push open', 'to growl', 'to cut', 'to eat', 'knife', 'to slurp', 'to drink', 'drink', 'to eat', 'delicious', 'tasty', 'to cough', 'sick', 'to cry', 'to cry']\n",
    "# replace 'to ' with ''\n",
    "answers_en = [x.replace('to ', '') for x in answers_en]\n",
    "\n",
    "len(answers_en)\n",
    "\n",
    "# add those to df as answers_en\n",
    "df['answer_en'] = answers_en"
   ]
  },
  {
   "cell_type": "markdown",
   "metadata": {},
   "source": [
    "## ConceptNet API"
   ]
  },
  {
   "cell_type": "code",
   "execution_count": 3,
   "metadata": {},
   "outputs": [
    {
     "name": "stdout",
     "output_type": "stream",
     "text": [
      "Relation: CapableOf\n",
      "Start: dog\n",
      "End: bark\n",
      "Weight: 16.0\n",
      "\n",
      "Relation: CapableOf\n",
      "Start: A dog\n",
      "End: guard your house\n",
      "Weight: 10.392304845413264\n",
      "\n",
      "Relation: RelatedTo\n",
      "Start: dog\n",
      "End: pet\n",
      "Weight: 9.82975075981075\n",
      "\n",
      "Relation: RelatedTo\n",
      "Start: dog\n",
      "End: animal\n",
      "Weight: 9.410419756844005\n",
      "\n",
      "Relation: AtLocation\n",
      "Start: a dog\n",
      "End: a kennel\n",
      "Weight: 9.38083151964686\n",
      "\n",
      "Relation: RelatedTo\n",
      "Start: flea\n",
      "End: dog\n",
      "Weight: 9.02064299260313\n",
      "\n",
      "Relation: RelatedTo\n",
      "Start: dog\n",
      "End: canine\n",
      "Weight: 7.625745865159683\n",
      "\n",
      "Relation: CapableOf\n",
      "Start: A dog\n",
      "End: be a pet\n",
      "Weight: 7.483314773547882\n",
      "\n",
      "Relation: IsA\n",
      "Start: A dog\n",
      "End: a loyal friend\n",
      "Weight: 6.6332495807108\n",
      "\n",
      "Relation: UsedFor\n",
      "Start: a dog\n",
      "End: companionship\n",
      "Weight: 6.32455532033676\n",
      "\n",
      "Relation: IsA\n",
      "Start: a dog\n",
      "End: pet\n",
      "Weight: 6.0\n",
      "\n",
      "Relation: CapableOf\n",
      "Start: a dog\n",
      "End: run\n",
      "Weight: 6.0\n",
      "\n",
      "Relation: AtLocation\n",
      "Start: the dog\n",
      "End: the table\n",
      "Weight: 5.656854249492381\n",
      "\n",
      "Relation: Desires\n",
      "Start: a dog\n",
      "End: a bone\n",
      "Weight: 5.291502622129181\n",
      "\n",
      "Relation: IsA\n",
      "Start: a dog\n",
      "End: mammal\n",
      "Weight: 5.291502622129181\n",
      "\n",
      "Relation: HasA\n",
      "Start: A dog\n",
      "End: four legs\n",
      "Weight: 5.291502622129181\n",
      "\n",
      "Relation: CapableOf\n",
      "Start: A dog\n",
      "End: guide a blind person\n",
      "Weight: 5.291502622129181\n",
      "\n",
      "Relation: Desires\n",
      "Start: a dog\n",
      "End: be petted\n",
      "Weight: 4.898979485566356\n",
      "\n",
      "Relation: IsA\n",
      "Start: puppy\n",
      "End: dog\n",
      "Weight: 4.898979485566356\n",
      "\n",
      "Relation: IsA\n",
      "Start: A dog\n",
      "End: a canine\n",
      "Weight: 4.898979485566356\n",
      "\n"
     ]
    }
   ],
   "source": [
    "def get_concept_data(concept):\n",
    "    url = f\"http://api.conceptnet.io/c/en/{concept}\"\n",
    "    response = requests.get(url).json()\n",
    "    \n",
    "    # Parse the JSON data and extract useful information\n",
    "    for edge in response['edges']:\n",
    "        print(f\"Relation: {edge['rel']['label']}\")\n",
    "        print(f\"Start: {edge['start']['label']}\")\n",
    "        print(f\"End: {edge['end']['label']}\")\n",
    "        print(f\"Weight: {edge['weight']}\\n\")\n",
    "\n",
    "# Search for the concept \n",
    "get_concept_data('dog')\n"
   ]
  },
  {
   "cell_type": "markdown",
   "metadata": {},
   "source": [
    "## Similarity using numberbatch"
   ]
  },
  {
   "cell_type": "code",
   "execution_count": 5,
   "metadata": {},
   "outputs": [],
   "source": [
    "# Load embeddings from a file\n",
    "\n",
    "def load_embeddings(file_path):\n",
    "    embeddings = {}\n",
    "    with open(file_path, 'r', encoding='utf-8') as f:\n",
    "        for line in f:\n",
    "            values = line.split()\n",
    "            word = values[0]\n",
    "            vector = np.array(values[1:], dtype='float32')\n",
    "            embeddings[word] = vector\n",
    "    return embeddings\n",
    "\n",
    "# Cosine similarity\n",
    "def cosine_similarity(vec1, vec2):\n",
    "    dot_product = np.dot(vec1, vec2)\n",
    "    norm_vec1 = np.linalg.norm(vec1)\n",
    "    norm_vec2 = np.linalg.norm(vec2)\n",
    "    return dot_product / (norm_vec1 * norm_vec2)\n",
    "\n",
    "# Euclidian distance\n",
    "def euclidean_distance(vec1, vec2):\n",
    "    return np.linalg.norm(vec1 - vec2)\n",
    "\n"
   ]
  },
  {
   "cell_type": "code",
   "execution_count": 20,
   "metadata": {},
   "outputs": [
    {
     "name": "stdout",
     "output_type": "stream",
     "text": [
      "One or both concepts not found in the embeddings.\n"
     ]
    }
   ],
   "source": [
    "# Load embeddings\n",
    "embeddings = load_embeddings('numberbatch-en.txt') # downloaded from https://github.com/commonsense/conceptnet-numberbatch?tab=readme-ov-file\n",
    "\n",
    "# Get the vectors for the concepts\n",
    "vec_dog = embeddings.get('dog')\n",
    "vec_cat = embeddings.get('to-bark')\n",
    "\n",
    "# Check if embeddings exist for both words\n",
    "if vec_dog is not None and vec_cat is not None:\n",
    "    # Calculate similarity and distance\n",
    "    cosine_sim = cosine_similarity(vec_dog, vec_cat)\n",
    "    euclidean_dist = euclidean_distance(vec_dog, vec_cat)\n",
    "    print(f\"Cosine Similarity: {cosine_sim}\")\n",
    "    print(f\"Euclidean Distance: {euclidean_dist}\")\n",
    "else:\n",
    "    print(\"One or both concepts not found in the embeddings.\")\n"
   ]
  },
  {
   "cell_type": "markdown",
   "metadata": {},
   "source": [
    "## Embeddings for concepts and answers"
   ]
  },
  {
   "cell_type": "code",
   "execution_count": 30,
   "metadata": {},
   "outputs": [],
   "source": [
    "# get the embeddings for the words in the list meanings_en\n",
    "word_embeddings_en = {}\n",
    "for word in meanings_en:\n",
    "    if word in embeddings:\n",
    "        word_embeddings_en[word] = embeddings[word]\n",
    "\n",
    "# get the embeddings for the words in the list answers_en\n",
    "word_embeddings_ans = {}\n",
    "for word in answers_en:\n",
    "    if word in embeddings:\n",
    "        word_embeddings_ans[word] = embeddings[word]\n",
    "\n",
    "# calculate the similarity between the first word in the list meanings_en and first word in answers_en, second word in meanings_en and second word in answers_en, etc.\n",
    "cosine_similarities = []\n",
    "euclidean_distances = []\n",
    "\n",
    "for i in range(len(meanings_en)):\n",
    "    word1 = meanings_en[i]\n",
    "    word2 = answers_en[i]\n",
    "    vec1 = word_embeddings_en.get(word1)\n",
    "    vec2 = word_embeddings_ans.get(word2)\n",
    "    if vec1 is not None and vec2 is not None:\n",
    "        cosine_sim = cosine_similarity(vec1, vec2)\n",
    "        euclidean_dist = euclidean_distance(vec1, vec2)\n",
    "        cosine_similarities.append(cosine_sim)\n",
    "        euclidean_distances.append(euclidean_dist)\n",
    "    else:\n",
    "        cosine_similarities.append(None)\n",
    "        euclidean_distances.append(None)\n"
   ]
  },
  {
   "cell_type": "code",
   "execution_count": 44,
   "metadata": {},
   "outputs": [],
   "source": [
    "## add cosine similarities and euclidean distances to df\n",
    "df['cosine_similarity'] = cosine_similarities\n",
    "df['euclidean_distance'] = euclidean_distances"
   ]
  },
  {
   "cell_type": "markdown",
   "metadata": {},
   "source": [
    "## Adding similarity survey"
   ]
  },
  {
   "cell_type": "code",
   "execution_count": 45,
   "metadata": {},
   "outputs": [],
   "source": [
    "# load in excel similarity_en_survey\n",
    "df_survey = pd.read_excel(answerfolder + '/similarity_en_survey.xlsx')\n",
    "\n",
    "# get rid of Timestamp column\n",
    "df_survey = df_survey.drop(columns='Timestamp')\n",
    "\n",
    "# for each column, calculate the mean and save it to a df\n",
    "df_survey_means = pd.DataFrame(df_survey.mean()).reset_index()\n",
    "\n",
    "# separate the index, the first part is English, the second part is the answer_en\n",
    "df_survey_means['English'] = df_survey_means['index'].str.split(' - ').str[0]\n",
    "df_survey_means['answer_en'] = df_survey_means['index'].str.split(' - ').str[1]\n",
    "\n",
    "# get rid of the index column\n",
    "df_survey_means = df_survey_means.drop(columns='index')\n",
    "\n",
    "# rename the column 0 to mean_similarity\n",
    "df_survey_means = df_survey_means.rename(columns={0: 'mean_similarity'})\n",
    "\n",
    "# change to lightning into lightning\n",
    "df_survey_means.loc[df_survey_means['answer_en'] == 'to lightning', 'answer_en'] = 'lightning'\n",
    "# phone to telephone\n",
    "df_survey_means.loc[df_survey_means['answer_en'] == 'phone', 'answer_en'] = 'telephone'\n",
    "# scent to odor\n",
    "df_survey_means.loc[df_survey_means['answer_en'] == 'scent', 'answer_en'] = 'odor'"
   ]
  },
  {
   "cell_type": "code",
   "execution_count": 46,
   "metadata": {},
   "outputs": [],
   "source": [
    "# replace string 'to ' with ''\n",
    "df_survey_means['English'] = df_survey_means['English'].str.replace('to ', '')\n",
    "# also in answer_en\n",
    "df_survey_means['answer_en'] = df_survey_means['answer_en'].str.replace('to ', '')"
   ]
  },
  {
   "cell_type": "code",
   "execution_count": 47,
   "metadata": {},
   "outputs": [],
   "source": [
    "# merge df_survey_means with df on English and answer_en\n",
    "df_final = pd.merge(df, df_survey_means, on=['English', 'answer_en'], how='left')\n",
    "\n",
    "# get rid of English 'to beat'\n",
    "df_final = df_final[df_final['English'] != 'beat']\n",
    "# and to weep\n",
    "df_final = df_final[df_final['English'] != 'weep']"
   ]
  },
  {
   "cell_type": "code",
   "execution_count": 48,
   "metadata": {},
   "outputs": [],
   "source": [
    "# show me the rows where mean_similarity is NaN\n",
    "df_final[df_final['mean_similarity'].isnull()]\n",
    "\n",
    "# mean_similarity of row where English is sharp and answer_en is pain is 4.0 (don't know why it's NaN)\n",
    "df_final.loc[(df_final['English'] == 'sharp') & (df_final['answer_en'] == 'pain'), 'mean_similarity'] = 4.0"
   ]
  },
  {
   "cell_type": "markdown",
   "metadata": {},
   "source": [
    "## Test correlation"
   ]
  },
  {
   "cell_type": "code",
   "execution_count": 50,
   "metadata": {},
   "outputs": [],
   "source": [
    "# get rid of all lines where mean_similarity is 10.0\n",
    "df_corr = df_final[df_final['mean_similarity'] != 10.0]"
   ]
  },
  {
   "cell_type": "code",
   "execution_count": 52,
   "metadata": {},
   "outputs": [
    {
     "data": {
      "text/plain": [
       "0.7748545593527965"
      ]
     },
     "execution_count": 52,
     "metadata": {},
     "output_type": "execute_result"
    }
   ],
   "source": [
    "# run a correlation between cosine_similarity and mean_similarity\n",
    "df_corr['cosine_similarity'].corr(df_corr['mean_similarity'])"
   ]
  },
  {
   "cell_type": "code",
   "execution_count": 53,
   "metadata": {},
   "outputs": [
    {
     "data": {
      "text/plain": [
       "-0.6986951829948619"
      ]
     },
     "execution_count": 53,
     "metadata": {},
     "output_type": "execute_result"
    }
   ],
   "source": [
    "# run a correlation between euclidean_distance and mean_similarity\n",
    "df_corr['euclidean_distance'].corr(df_corr['mean_similarity'])"
   ]
  },
  {
   "cell_type": "code",
   "execution_count": 54,
   "metadata": {},
   "outputs": [
    {
     "data": {
      "text/plain": [
       "<Axes: xlabel='cosine_similarity', ylabel='mean_similarity'>"
      ]
     },
     "execution_count": 54,
     "metadata": {},
     "output_type": "execute_result"
    },
    {
     "data": {
      "image/png": "[encoded data removed]",
      "text/plain": [
       "<Figure size 640x480 with 1 Axes>"
      ]
     },
     "metadata": {},
     "output_type": "display_data"
    }
   ],
   "source": [
    "# plot it\n",
    "import seaborn as sns\n",
    "import matplotlib.pyplot as plt\n",
    "\n",
    "sns.scatterplot(data=df_corr, x='cosine_similarity', y='mean_similarity')"
   ]
  },
  {
   "cell_type": "code",
   "execution_count": 56,
   "metadata": {},
   "outputs": [],
   "source": [
    "# save the df_final\n",
    "df_final.to_csv(answerfolder + '/df_final_conceptnet.csv', index=False)"
   ]
  }
 ],
 "metadata": {
  "kernelspec": {
   "display_name": "BERT",
   "language": "python",
   "name": "python3"
  },
  "language_info": {
   "codemirror_mode": {
    "name": "ipython",
    "version": 3
   },
   "file_extension": ".py",
   "mimetype": "text/x-python",
   "name": "python",
   "nbconvert_exporter": "python",
   "pygments_lexer": "ipython3",
   "version": "3.12.4"
  }
 },
 "nbformat": 4,
 "nbformat_minor": 2
}
