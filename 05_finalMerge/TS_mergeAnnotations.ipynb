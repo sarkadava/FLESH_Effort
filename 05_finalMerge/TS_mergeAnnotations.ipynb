{
 "cells": [
  {
   "cell_type": "markdown",
   "metadata": {},
   "source": [
    "# Final merging"
   ]
  },
  {
   "cell_type": "code",
   "execution_count": null,
   "metadata": {},
   "outputs": [],
   "source": [
    "annofolder = curfolder + '\\MT_annotated\\\\'\n",
    "annofiles = glob.glob(annofolder + '*ELAN_tiers.csv')\n",
    "mergedfiles = glob.glob(TSmerged + '/merged*.csv')\n",
    "mergedfiles = [x for x in mergedfiles if 'anno' not in x]"
   ]
  },
  {
   "cell_type": "code",
   "execution_count": null,
   "metadata": {},
   "outputs": [],
   "source": [
    "# function to parse anno from ELAN\n",
    "\n",
    "## add to it also vocalization tier\n",
    "\n",
    "import xml.etree.ElementTree as ET\n",
    "\n",
    "def parse_eaf_file(eaf_file, rel_tiers):\n",
    "    tree = ET.parse(eaf_file)\n",
    "    root = tree.getroot()\n",
    "\n",
    "    time_order = root.find('TIME_ORDER')\n",
    "    time_slots = {time_slot.attrib['TIME_SLOT_ID']: time_slot.attrib['TIME_VALUE'] for time_slot in time_order}\n",
    "\n",
    "    annotations = []\n",
    "    relevant_tiers = {rel_tiers}\n",
    "    for tier in root.findall('TIER'):\n",
    "        tier_id = tier.attrib['TIER_ID']\n",
    "        if tier_id in relevant_tiers:\n",
    "            for annotation in tier.findall('ANNOTATION/ALIGNABLE_ANNOTATION'):\n",
    "                # Ensure required attributes are present\n",
    "                if 'TIME_SLOT_REF1' in annotation.attrib and 'TIME_SLOT_REF2' in annotation.attrib:\n",
    "                    ts_ref1 = annotation.attrib['TIME_SLOT_REF1']\n",
    "                    ts_ref2 = annotation.attrib['TIME_SLOT_REF2']\n",
    "                    # Get annotation ID if it exists, otherwise set to None\n",
    "                    ann_id = annotation.attrib.get('ANNOTATION_ID', None)\n",
    "                    annotation_value = annotation.find('ANNOTATION_VALUE').text.strip()\n",
    "                    annotations.append({\n",
    "                        'tier_id': tier_id,\n",
    "                        'annotation_id': ann_id,\n",
    "                        'start_time': time_slots[ts_ref1],\n",
    "                        'end_time': time_slots[ts_ref2],\n",
    "                        'annotation_value': annotation_value\n",
    "                    })\n",
    "\n",
    "    return annotations"
   ]
  },
  {
   "cell_type": "markdown",
   "metadata": {},
   "source": [
    "# Vocalizations from ELAN"
   ]
  },
  {
   "cell_type": "code",
   "execution_count": null,
   "metadata": {},
   "outputs": [],
   "source": [
    "manualannofiles = glob.glob(curfolder + '/ManualAnno/R1/*ELAN_tiers.eaf') # Ola's\n",
    "\n",
    "# txt file to write the annotations\n",
    "vocal_anno = curfolder + '/ManualAnno/vocalization_annotations.txt'\n",
    "\n",
    "\n",
    "with open(vocal_anno, 'w') as f:\n",
    "    for file in manualannofiles:\n",
    "        print('working on ' + file)\n",
    "        # get the filename as the last element\n",
    "        filename = file.split('\\\\')[-1]\n",
    "        # replace _ELAN_tiers.eaf with ''\n",
    "        filename = filename.replace('_ELAN_tiers.eaf', '')\n",
    "        # parse the file\n",
    "        annotations = parse_eaf_file(file, 'vocalization')\n",
    "        # write the annotations\n",
    "        for annotation in annotations:\n",
    "            f.write(f\"{annotation['start_time']}\\t{annotation['end_time']}\\t{annotation['annotation_value']}\\t{filename}\\n\")"
   ]
  },
  {
   "cell_type": "markdown",
   "metadata": {},
   "source": [
    "# Merge"
   ]
  },
  {
   "cell_type": "code",
   "execution_count": null,
   "metadata": {},
   "outputs": [],
   "source": [
    "\n",
    "voc_anno = curfolder + '\\\\ManualAnno\\\\vocalization_annotations.txt'\n",
    "\n",
    "for file in mergedfiles:\n",
    "    print('working on ' + file)\n",
    "\n",
    "    # get trialid\n",
    "    trialid = file.split('\\\\')[-1].split('.')[0]\n",
    "    # replace merged_ with ''\n",
    "    trialid = trialid.replace('merged_', '')\n",
    "    \n",
    "    # find in annofiles the one with the same trialid\n",
    "    try:\n",
    "        annofile = [x for x in annofiles if trialid in x][0]\n",
    "    except IndexError:\n",
    "        print('IndexError: ' + trialid + 'not found')\n",
    "        continue\n",
    "\n",
    "    # load the merged file\n",
    "    merged = pd.read_csv(file)\n",
    "    # load the annotation file\n",
    "    anno = pd.read_csv(annofile)\n",
    "    # rename Time to time\n",
    "    anno.rename(columns={'Time': 'time'}, inplace=True)\n",
    "\n",
    "    ### voc_ano\n",
    "    voc_df = pd.read_csv(voc_anno, sep='\\t', header=None)\n",
    "\n",
    "    # get the annotations for the trialid\n",
    "    voc_anno_trial = voc_df[voc_df[3] == trialid]\n",
    "\n",
    "    if voc_anno_trial.empty:\n",
    "        print('no vocalization annotations for ' + trialid)\n",
    "    else:\n",
    "        # create a new column for vocalization\n",
    "        merged['vocalization'] = 0\n",
    "        # get the start and end times\n",
    "        for index, row in voc_anno_trial.iterrows():\n",
    "            start = row[0]\n",
    "            end = row[1]\n",
    "            merged.loc[(merged['time'] >= start) & (merged['time'] <= end), 'vocalization'] = row[2]\n",
    "\n",
    "    # merge the two dataframes\n",
    "    merged_anno = pd.merge(merged, anno, on=['time', 'TrialID'], how='outer')\n",
    "\n",
    "    # interpolate missing values of anno columns\n",
    "    colstoint = anno.columns\n",
    "    colstoint = [x for x in colstoint if 'time' not in x]\n",
    "    colstoint = [x for x in colstoint if 'TrialID' not in x]\n",
    "\n",
    "    for col in colstoint:\n",
    "        # fill in missing values\n",
    "        merged_anno[col] = merged_anno[col].fillna(method='ffill')\n",
    "\n",
    "    # get rid of missing values in COPc\n",
    "    merged_anno = merged_anno[~np.isnan(merged_anno['COPc'])]\n",
    "\n",
    "    # write to csv \n",
    "    merged_anno.to_csv(TSmerged + '/merged_anno_' + trialid + '.csv', index=False)\n"
   ]
  }
 ],
 "metadata": {
  "language_info": {
   "name": "python"
  }
 },
 "nbformat": 4,
 "nbformat_minor": 2
}
